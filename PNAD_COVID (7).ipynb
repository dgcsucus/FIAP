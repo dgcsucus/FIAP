{
  "cells": [
    {
      "cell_type": "markdown",
      "metadata": {
        "id": "ZTsmObEkuc_c"
      },
      "source": [
        "#PNAD COVID\n",
        "## Analise dos dados do PNAD (https://covid19.ibge.gov.br/pnad-covid/).\n",
        "### Dicionário referência: (https://docs.google.com/spreadsheets/d/1yLM8VCWtyYSLcW4xWrtV_x3eOautvfXnPgWdrJq8egQ/edit?usp=sharing)"
      ]
    },
    {
      "cell_type": "code",
      "execution_count": null,
      "metadata": {
        "colab": {
          "base_uri": "https://localhost:8080/"
        },
        "id": "4JErp_1Nucqm",
        "outputId": "5558a48e-cab9-463b-f38a-9468178575f7"
      },
      "outputs": [
        {
          "output_type": "stream",
          "name": "stdout",
          "text": [
            "Vamos flamengo!\n"
          ]
        }
      ],
      "source": [
        "print(\"Vamos flamengo!\")"
      ]
    },
    {
      "cell_type": "markdown",
      "metadata": {
        "id": "Sx10c26_uXlS"
      },
      "source": [
        "#Bibliotecas usadas\n"
      ]
    },
    {
      "cell_type": "code",
      "execution_count": null,
      "metadata": {
        "id": "SO5hBTJH0a_b"
      },
      "outputs": [],
      "source": [
        "from pyspark.sql import SparkSession\n",
        "from pyspark.sql.functions import col, regexp_replace, lower, lit, monotonically_increasing_id, last\n",
        "from pyspark.sql.window import Window\n",
        "from pyspark.sql.functions import lit\n",
        "from pyspark.sql import functions as F\n",
        "import pandas as pd\n",
        "import numpy as np\n",
        "import re\n",
        "import unicodedata\n",
        "import matplotlib.pyplot as plt\n",
        "import seaborn as sns\n",
        "from itertools import combinations\n",
        "from google.colab import files"
      ]
    },
    {
      "cell_type": "markdown",
      "metadata": {
        "id": "8t3TvZs2irBP"
      },
      "source": [
        "#IMPORTANDO OS DADOS\n"
      ]
    },
    {
      "cell_type": "code",
      "execution_count": null,
      "metadata": {
        "id": "FzH3IxanUw7L"
      },
      "outputs": [],
      "source": [
        "def carregar_dicionarios(lista_arquivos):\n",
        "    \"\"\"\n",
        "    Carrega e concatena dicionários da PNAD COVID.\n",
        "\n",
        "    - lista_arquivos: lista de caminhos para arquivos .xls\n",
        "    - Retorna: DataFrame único com colunas [codigo_var, nome_var, codigo_valor, descricao_valor]\n",
        "    \"\"\"\n",
        "    dfs = []\n",
        "\n",
        "    for arquivo in lista_arquivos:\n",
        "        df_dic = pd.read_excel(\n",
        "            arquivo,\n",
        "            sheet_name=0,\n",
        "            skiprows=3  # pula cabeçalho desnecessário\n",
        "        )\n",
        "\n",
        "        # seleciona apenas colunas relevantes (ajuste se necessário)\n",
        "        df_dic = df_dic.iloc[:, [1, 3, 4, 5]]\n",
        "        df_dic.columns = [\"codigo_var\", \"nome_var\", \"codigo_valor\", \"descricao_valor\"]\n",
        "\n",
        "        # preencher valores para baixo\n",
        "        df_dic[\"codigo_var\"] = df_dic[\"codigo_var\"].ffill()\n",
        "        df_dic[\"nome_var\"] = df_dic[\"nome_var\"].ffill()\n",
        "\n",
        "        # normalizar código de valor\n",
        "        df_dic[\"codigo_valor\"] = (\n",
        "            df_dic[\"codigo_valor\"]\n",
        "            .astype(str)\n",
        "            .str.strip()\n",
        "            .str.replace(r\"\\.0$\", \"\", regex=True)\n",
        "            .replace(\"nan\", pd.NA)\n",
        "        )\n",
        "\n",
        "        dfs.append(df_dic)\n",
        "\n",
        "    # concatena tudo\n",
        "    df_final = pd.concat(dfs, ignore_index=True).drop_duplicates()\n",
        "    return df_final\n"
      ]
    },
    {
      "cell_type": "code",
      "execution_count": null,
      "metadata": {
        "colab": {
          "base_uri": "https://localhost:8080/",
          "height": 423
        },
        "id": "kMoemYdb6bZx",
        "outputId": "7bffff20-8b19-4616-a759-28d5e1596ba0"
      },
      "outputs": [
        {
          "output_type": "execute_result",
          "data": {
            "text/plain": [
              "    codigo_var                                          nome_var codigo_valor  \\\n",
              "0          Ano                                 Ano de referência         <NA>   \n",
              "1           UF                              Unidade da Federação           11   \n",
              "2           UF                              Unidade da Federação           12   \n",
              "3           UF                              Unidade da Federação           13   \n",
              "4           UF                              Unidade da Federação           14   \n",
              "..         ...                                               ...          ...   \n",
              "195     B00110             Na semana passada teve dor nos olhos?            9   \n",
              "196     B00111  Na semana passada teve perda de cheiro ou sabor?            1   \n",
              "197     B00111  Na semana passada teve perda de cheiro ou sabor?            2   \n",
              "198     B00111  Na semana passada teve perda de cheiro ou sabor?            3   \n",
              "199     B00111  Na semana passada teve perda de cheiro ou sabor?            9   \n",
              "\n",
              "    descricao_valor  \n",
              "0               NaN  \n",
              "1          Rondônia  \n",
              "2              Acre  \n",
              "3          Amazonas  \n",
              "4           Roraima  \n",
              "..              ...  \n",
              "195        Ignorado  \n",
              "196             Sim  \n",
              "197            Não   \n",
              "198        Não sabe  \n",
              "199        Ignorado  \n",
              "\n",
              "[200 rows x 4 columns]"
            ],
            "text/html": [
              "\n",
              "  <div id=\"df-8b5ee67c-f9f6-4157-87e6-720c4de10b50\" class=\"colab-df-container\">\n",
              "    <div>\n",
              "<style scoped>\n",
              "    .dataframe tbody tr th:only-of-type {\n",
              "        vertical-align: middle;\n",
              "    }\n",
              "\n",
              "    .dataframe tbody tr th {\n",
              "        vertical-align: top;\n",
              "    }\n",
              "\n",
              "    .dataframe thead th {\n",
              "        text-align: right;\n",
              "    }\n",
              "</style>\n",
              "<table border=\"1\" class=\"dataframe\">\n",
              "  <thead>\n",
              "    <tr style=\"text-align: right;\">\n",
              "      <th></th>\n",
              "      <th>codigo_var</th>\n",
              "      <th>nome_var</th>\n",
              "      <th>codigo_valor</th>\n",
              "      <th>descricao_valor</th>\n",
              "    </tr>\n",
              "  </thead>\n",
              "  <tbody>\n",
              "    <tr>\n",
              "      <th>0</th>\n",
              "      <td>Ano</td>\n",
              "      <td>Ano de referência</td>\n",
              "      <td>&lt;NA&gt;</td>\n",
              "      <td>NaN</td>\n",
              "    </tr>\n",
              "    <tr>\n",
              "      <th>1</th>\n",
              "      <td>UF</td>\n",
              "      <td>Unidade da Federação</td>\n",
              "      <td>11</td>\n",
              "      <td>Rondônia</td>\n",
              "    </tr>\n",
              "    <tr>\n",
              "      <th>2</th>\n",
              "      <td>UF</td>\n",
              "      <td>Unidade da Federação</td>\n",
              "      <td>12</td>\n",
              "      <td>Acre</td>\n",
              "    </tr>\n",
              "    <tr>\n",
              "      <th>3</th>\n",
              "      <td>UF</td>\n",
              "      <td>Unidade da Federação</td>\n",
              "      <td>13</td>\n",
              "      <td>Amazonas</td>\n",
              "    </tr>\n",
              "    <tr>\n",
              "      <th>4</th>\n",
              "      <td>UF</td>\n",
              "      <td>Unidade da Federação</td>\n",
              "      <td>14</td>\n",
              "      <td>Roraima</td>\n",
              "    </tr>\n",
              "    <tr>\n",
              "      <th>...</th>\n",
              "      <td>...</td>\n",
              "      <td>...</td>\n",
              "      <td>...</td>\n",
              "      <td>...</td>\n",
              "    </tr>\n",
              "    <tr>\n",
              "      <th>195</th>\n",
              "      <td>B00110</td>\n",
              "      <td>Na semana passada teve dor nos olhos?</td>\n",
              "      <td>9</td>\n",
              "      <td>Ignorado</td>\n",
              "    </tr>\n",
              "    <tr>\n",
              "      <th>196</th>\n",
              "      <td>B00111</td>\n",
              "      <td>Na semana passada teve perda de cheiro ou sabor?</td>\n",
              "      <td>1</td>\n",
              "      <td>Sim</td>\n",
              "    </tr>\n",
              "    <tr>\n",
              "      <th>197</th>\n",
              "      <td>B00111</td>\n",
              "      <td>Na semana passada teve perda de cheiro ou sabor?</td>\n",
              "      <td>2</td>\n",
              "      <td>Não</td>\n",
              "    </tr>\n",
              "    <tr>\n",
              "      <th>198</th>\n",
              "      <td>B00111</td>\n",
              "      <td>Na semana passada teve perda de cheiro ou sabor?</td>\n",
              "      <td>3</td>\n",
              "      <td>Não sabe</td>\n",
              "    </tr>\n",
              "    <tr>\n",
              "      <th>199</th>\n",
              "      <td>B00111</td>\n",
              "      <td>Na semana passada teve perda de cheiro ou sabor?</td>\n",
              "      <td>9</td>\n",
              "      <td>Ignorado</td>\n",
              "    </tr>\n",
              "  </tbody>\n",
              "</table>\n",
              "<p>200 rows × 4 columns</p>\n",
              "</div>\n",
              "    <div class=\"colab-df-buttons\">\n",
              "\n",
              "  <div class=\"colab-df-container\">\n",
              "    <button class=\"colab-df-convert\" onclick=\"convertToInteractive('df-8b5ee67c-f9f6-4157-87e6-720c4de10b50')\"\n",
              "            title=\"Convert this dataframe to an interactive table.\"\n",
              "            style=\"display:none;\">\n",
              "\n",
              "  <svg xmlns=\"http://www.w3.org/2000/svg\" height=\"24px\" viewBox=\"0 -960 960 960\">\n",
              "    <path d=\"M120-120v-720h720v720H120Zm60-500h600v-160H180v160Zm220 220h160v-160H400v160Zm0 220h160v-160H400v160ZM180-400h160v-160H180v160Zm440 0h160v-160H620v160ZM180-180h160v-160H180v160Zm440 0h160v-160H620v160Z\"/>\n",
              "  </svg>\n",
              "    </button>\n",
              "\n",
              "  <style>\n",
              "    .colab-df-container {\n",
              "      display:flex;\n",
              "      gap: 12px;\n",
              "    }\n",
              "\n",
              "    .colab-df-convert {\n",
              "      background-color: #E8F0FE;\n",
              "      border: none;\n",
              "      border-radius: 50%;\n",
              "      cursor: pointer;\n",
              "      display: none;\n",
              "      fill: #1967D2;\n",
              "      height: 32px;\n",
              "      padding: 0 0 0 0;\n",
              "      width: 32px;\n",
              "    }\n",
              "\n",
              "    .colab-df-convert:hover {\n",
              "      background-color: #E2EBFA;\n",
              "      box-shadow: 0px 1px 2px rgba(60, 64, 67, 0.3), 0px 1px 3px 1px rgba(60, 64, 67, 0.15);\n",
              "      fill: #174EA6;\n",
              "    }\n",
              "\n",
              "    .colab-df-buttons div {\n",
              "      margin-bottom: 4px;\n",
              "    }\n",
              "\n",
              "    [theme=dark] .colab-df-convert {\n",
              "      background-color: #3B4455;\n",
              "      fill: #D2E3FC;\n",
              "    }\n",
              "\n",
              "    [theme=dark] .colab-df-convert:hover {\n",
              "      background-color: #434B5C;\n",
              "      box-shadow: 0px 1px 3px 1px rgba(0, 0, 0, 0.15);\n",
              "      filter: drop-shadow(0px 1px 2px rgba(0, 0, 0, 0.3));\n",
              "      fill: #FFFFFF;\n",
              "    }\n",
              "  </style>\n",
              "\n",
              "    <script>\n",
              "      const buttonEl =\n",
              "        document.querySelector('#df-8b5ee67c-f9f6-4157-87e6-720c4de10b50 button.colab-df-convert');\n",
              "      buttonEl.style.display =\n",
              "        google.colab.kernel.accessAllowed ? 'block' : 'none';\n",
              "\n",
              "      async function convertToInteractive(key) {\n",
              "        const element = document.querySelector('#df-8b5ee67c-f9f6-4157-87e6-720c4de10b50');\n",
              "        const dataTable =\n",
              "          await google.colab.kernel.invokeFunction('convertToInteractive',\n",
              "                                                    [key], {});\n",
              "        if (!dataTable) return;\n",
              "\n",
              "        const docLinkHtml = 'Like what you see? Visit the ' +\n",
              "          '<a target=\"_blank\" href=https://colab.research.google.com/notebooks/data_table.ipynb>data table notebook</a>'\n",
              "          + ' to learn more about interactive tables.';\n",
              "        element.innerHTML = '';\n",
              "        dataTable['output_type'] = 'display_data';\n",
              "        await google.colab.output.renderOutput(dataTable, element);\n",
              "        const docLink = document.createElement('div');\n",
              "        docLink.innerHTML = docLinkHtml;\n",
              "        element.appendChild(docLink);\n",
              "      }\n",
              "    </script>\n",
              "  </div>\n",
              "\n",
              "\n",
              "    <div id=\"df-b51a6be9-9fec-4c76-826b-64c36046b128\">\n",
              "      <button class=\"colab-df-quickchart\" onclick=\"quickchart('df-b51a6be9-9fec-4c76-826b-64c36046b128')\"\n",
              "                title=\"Suggest charts\"\n",
              "                style=\"display:none;\">\n",
              "\n",
              "<svg xmlns=\"http://www.w3.org/2000/svg\" height=\"24px\"viewBox=\"0 0 24 24\"\n",
              "     width=\"24px\">\n",
              "    <g>\n",
              "        <path d=\"M19 3H5c-1.1 0-2 .9-2 2v14c0 1.1.9 2 2 2h14c1.1 0 2-.9 2-2V5c0-1.1-.9-2-2-2zM9 17H7v-7h2v7zm4 0h-2V7h2v10zm4 0h-2v-4h2v4z\"/>\n",
              "    </g>\n",
              "</svg>\n",
              "      </button>\n",
              "\n",
              "<style>\n",
              "  .colab-df-quickchart {\n",
              "      --bg-color: #E8F0FE;\n",
              "      --fill-color: #1967D2;\n",
              "      --hover-bg-color: #E2EBFA;\n",
              "      --hover-fill-color: #174EA6;\n",
              "      --disabled-fill-color: #AAA;\n",
              "      --disabled-bg-color: #DDD;\n",
              "  }\n",
              "\n",
              "  [theme=dark] .colab-df-quickchart {\n",
              "      --bg-color: #3B4455;\n",
              "      --fill-color: #D2E3FC;\n",
              "      --hover-bg-color: #434B5C;\n",
              "      --hover-fill-color: #FFFFFF;\n",
              "      --disabled-bg-color: #3B4455;\n",
              "      --disabled-fill-color: #666;\n",
              "  }\n",
              "\n",
              "  .colab-df-quickchart {\n",
              "    background-color: var(--bg-color);\n",
              "    border: none;\n",
              "    border-radius: 50%;\n",
              "    cursor: pointer;\n",
              "    display: none;\n",
              "    fill: var(--fill-color);\n",
              "    height: 32px;\n",
              "    padding: 0;\n",
              "    width: 32px;\n",
              "  }\n",
              "\n",
              "  .colab-df-quickchart:hover {\n",
              "    background-color: var(--hover-bg-color);\n",
              "    box-shadow: 0 1px 2px rgba(60, 64, 67, 0.3), 0 1px 3px 1px rgba(60, 64, 67, 0.15);\n",
              "    fill: var(--button-hover-fill-color);\n",
              "  }\n",
              "\n",
              "  .colab-df-quickchart-complete:disabled,\n",
              "  .colab-df-quickchart-complete:disabled:hover {\n",
              "    background-color: var(--disabled-bg-color);\n",
              "    fill: var(--disabled-fill-color);\n",
              "    box-shadow: none;\n",
              "  }\n",
              "\n",
              "  .colab-df-spinner {\n",
              "    border: 2px solid var(--fill-color);\n",
              "    border-color: transparent;\n",
              "    border-bottom-color: var(--fill-color);\n",
              "    animation:\n",
              "      spin 1s steps(1) infinite;\n",
              "  }\n",
              "\n",
              "  @keyframes spin {\n",
              "    0% {\n",
              "      border-color: transparent;\n",
              "      border-bottom-color: var(--fill-color);\n",
              "      border-left-color: var(--fill-color);\n",
              "    }\n",
              "    20% {\n",
              "      border-color: transparent;\n",
              "      border-left-color: var(--fill-color);\n",
              "      border-top-color: var(--fill-color);\n",
              "    }\n",
              "    30% {\n",
              "      border-color: transparent;\n",
              "      border-left-color: var(--fill-color);\n",
              "      border-top-color: var(--fill-color);\n",
              "      border-right-color: var(--fill-color);\n",
              "    }\n",
              "    40% {\n",
              "      border-color: transparent;\n",
              "      border-right-color: var(--fill-color);\n",
              "      border-top-color: var(--fill-color);\n",
              "    }\n",
              "    60% {\n",
              "      border-color: transparent;\n",
              "      border-right-color: var(--fill-color);\n",
              "    }\n",
              "    80% {\n",
              "      border-color: transparent;\n",
              "      border-right-color: var(--fill-color);\n",
              "      border-bottom-color: var(--fill-color);\n",
              "    }\n",
              "    90% {\n",
              "      border-color: transparent;\n",
              "      border-bottom-color: var(--fill-color);\n",
              "    }\n",
              "  }\n",
              "</style>\n",
              "\n",
              "      <script>\n",
              "        async function quickchart(key) {\n",
              "          const quickchartButtonEl =\n",
              "            document.querySelector('#' + key + ' button');\n",
              "          quickchartButtonEl.disabled = true;  // To prevent multiple clicks.\n",
              "          quickchartButtonEl.classList.add('colab-df-spinner');\n",
              "          try {\n",
              "            const charts = await google.colab.kernel.invokeFunction(\n",
              "                'suggestCharts', [key], {});\n",
              "          } catch (error) {\n",
              "            console.error('Error during call to suggestCharts:', error);\n",
              "          }\n",
              "          quickchartButtonEl.classList.remove('colab-df-spinner');\n",
              "          quickchartButtonEl.classList.add('colab-df-quickchart-complete');\n",
              "        }\n",
              "        (() => {\n",
              "          let quickchartButtonEl =\n",
              "            document.querySelector('#df-b51a6be9-9fec-4c76-826b-64c36046b128 button');\n",
              "          quickchartButtonEl.style.display =\n",
              "            google.colab.kernel.accessAllowed ? 'block' : 'none';\n",
              "        })();\n",
              "      </script>\n",
              "    </div>\n",
              "\n",
              "    </div>\n",
              "  </div>\n"
            ],
            "application/vnd.google.colaboratory.intrinsic+json": {
              "type": "dataframe",
              "variable_name": "df_dic",
              "summary": "{\n  \"name\": \"df_dic\",\n  \"rows\": 657,\n  \"fields\": [\n    {\n      \"column\": \"codigo_var\",\n      \"properties\": {\n        \"dtype\": \"category\",\n        \"num_unique_values\": 148,\n        \"samples\": [\n          \"D0053\",\n          \"B0042\",\n          \"F002A2\"\n        ],\n        \"semantic_type\": \"\",\n        \"description\": \"\"\n      }\n    },\n    {\n      \"column\": \"nome_var\",\n      \"properties\": {\n        \"dtype\": \"category\",\n        \"num_unique_values\": 135,\n        \"samples\": [\n          \"Recebia normalmente somente em benef\\u00edcios\",\n          \"Algum m\\u00e9dico j\\u00e1 lhe deu o diagn\\u00f3stico de depress\\u00e3o?\",\n          \"O(A) Sr(a) contribui para o INSS?  \"\n        ],\n        \"semantic_type\": \"\",\n        \"description\": \"\"\n      }\n    },\n    {\n      \"column\": \"codigo_valor\",\n      \"properties\": {\n        \"dtype\": \"category\",\n        \"num_unique_values\": 75,\n        \"samples\": [\n          \"15\",\n          \"20\",\n          \"24\"\n        ],\n        \"semantic_type\": \"\",\n        \"description\": \"\"\n      }\n    },\n    {\n      \"column\": \"descricao_valor\",\n      \"properties\": {\n        \"dtype\": \"category\",\n        \"num_unique_values\": 304,\n        \"samples\": [\n          \"Estadual\",\n          \"Ficou rigorosamente em casa\",\n          \"Idade (em anos)\"\n        ],\n        \"semantic_type\": \"\",\n        \"description\": \"\"\n      }\n    }\n  ]\n}"
            }
          },
          "metadata": {},
          "execution_count": 4
        }
      ],
      "source": [
        "arquivos = [\n",
        "    \"/content/Dicionario_PNAD_COVID_092020_20220621 (1).xls\",\n",
        "    \"/content/Dicionario_PNAD_COVID_102020_20220621.xls\",\n",
        "    \"/content/Dicionario_PNAD_COVID_112020_20220621.xls\"\n",
        "]\n",
        "\n",
        "df_dic = carregar_dicionarios(arquivos)\n",
        "df_dic.head(200)\n"
      ]
    },
    {
      "cell_type": "code",
      "execution_count": null,
      "metadata": {
        "id": "Zm7KIhtqrtz4"
      },
      "outputs": [],
      "source": [
        "#Criando sessão spark\n",
        "spark = SparkSession.builder \\\n",
        "    .appName(\"PNAD_COVID\") \\\n",
        "    .getOrCreate()"
      ]
    },
    {
      "cell_type": "code",
      "execution_count": null,
      "metadata": {
        "colab": {
          "base_uri": "https://localhost:8080/"
        },
        "id": "gvF8sagDixYo",
        "outputId": "a1051ce4-ac66-481d-cabf-4698deb15ec0"
      },
      "outputs": [
        {
          "output_type": "stream",
          "name": "stdout",
          "text": [
            "+----+---+-------+-------+-----+-----+-----+-----+-------+---------+-----+-----+------+------------+------------+------+----+-----+------+------+------+----+----+----+----+----+-----+-----+----+-----+----+----+-----+-----+-----+-----+-----+-----+-----+-----+-----+------+------+------+------+----+-----+-----+-----+-----+-----+-----+-----+-----+-----+-----+-----+-----+-----+----+----+----+----+-----+-----+-----+-----+-----+-----+-----+-----+-----+-----+-----+-----+----+----+----+----+----+----+-----+-----+-----+----+----+-----+-----+-----+-----+-----+------+------+-----+----+----+-----+----+-----+------+--------+-----+------+------+-----+-----+-----+------+-------+--------+------+-------+-------+----+----+----+----+----+-----+-----+-----+-----+-----+-----+-----+-----+--------+-----+--------+-----+-----+-----+-----+----+-----+-----+-----+-----+----+-----+-----+------+------+------+------+------+-----+----+--------------------+--------------+\n",
            "| Ano| UF|CAPITAL|RM_RIDE|V1008|V1012|V1013|V1016|Estrato|      UPA|V1022|V1023| V1030|       V1031|       V1032|posest|A001|A001A|A001B1|A001B2|A001B3|A002|A003|A004|A005|A006|A006A|A006B|A007|A007A|A008|A009|B0011|B0012|B0013|B0014|B0015|B0016|B0017|B0018|B0019|B00110|B00111|B00112|B00113|B002|B0031|B0032|B0033|B0034|B0035|B0036|B0037|B0041|B0042|B0043|B0044|B0045|B0046|B005|B006|B007|B008|B009A|B009B|B009C|B009D|B009E|B009F|B0101|B0102|B0103|B0104|B0105|B0106|B011|C001|C002|C003|C004|C005|C0051|C0052|C0053|C006|C007|C007A|C007B|C007C|C007D|C007E|C007E1|C007E2|C007F|C008|C009|C009A|C010|C0101|C01011|  C01012|C0102|C01021|C01022|C0103|C0104|C011A|C011A1|C011A11| C011A12|C011A2|C011A21|C011A22|C012|C013|C014|C015|C016|C017A|D0011|D0013|D0021|D0023|D0031|D0033|D0041|   D0043|D0051|   D0053|D0061|D0063|D0071|D0073|E001|E0021|E0022|E0023|E0024|F001|F0021|F0022|F002A1|F002A2|F002A3|F002A4|F002A5|F0061|F006|          input_file|mes_referencia|\n",
            "+----+---+-------+-------+-----+-----+-----+-----+-------+---------+-----+-----+------+------------+------------+------+----+-----+------+------+------+----+----+----+----+----+-----+-----+----+-----+----+----+-----+-----+-----+-----+-----+-----+-----+-----+-----+------+------+------+------+----+-----+-----+-----+-----+-----+-----+-----+-----+-----+-----+-----+-----+-----+----+----+----+----+-----+-----+-----+-----+-----+-----+-----+-----+-----+-----+-----+-----+----+----+----+----+----+----+-----+-----+-----+----+----+-----+-----+-----+-----+-----+------+------+-----+----+----+-----+----+-----+------+--------+-----+------+------+-----+-----+-----+------+-------+--------+------+-------+-------+----+----+----+----+----+-----+-----+-----+-----+-----+-----+-----+-----+--------+-----+--------+-----+-----+-----+-----+----+-----+-----+-----+-----+----+-----+-----+------+------+------+------+------+-----+----+--------------------+--------------+\n",
            "|2020| 11|     11|   NULL|   01|    4|   11|    7|1110011|110015970|    1|    1|152902|101.01170275|117.46371855|  1114|  01|   01|    05|    08|  1984| 036|   1|   4|   5|NULL| NULL| NULL|NULL| NULL|NULL|NULL|    2|    2|    2|    2|    2|    2|    2|    2|    2|     2|     2|     2|     2|NULL| NULL| NULL| NULL| NULL| NULL| NULL| NULL| NULL| NULL| NULL| NULL| NULL| NULL|NULL|NULL|   1|   2| NULL| NULL| NULL| NULL| NULL| NULL|    2|    2|    2|    2|    2|    2|   2|   1|NULL|NULL|NULL|NULL| NULL| NULL| NULL|   2|  04| NULL|    1|   35|   06| NULL|  NULL|  NULL| NULL| 048| 048| NULL|   1|    1|    04|00001045| NULL|  NULL|  NULL| NULL| NULL|    1|     1|     04|00001045|  NULL|   NULL|   NULL|   1|NULL|NULL|NULL|NULL| NULL|    2| NULL|    2| NULL|    2| NULL|    2|    NULL|    1|00000600|    2| NULL|    2| NULL|   3| NULL| NULL| NULL| NULL|   1| NULL| NULL|     1|     1|     1|     2|     1|    1|   1|file:///content/P...|        112020|\n",
            "|2020| 11|     11|   NULL|   01|    4|   11|    7|1110011|110015970|    1|    1|150835|101.01170275|125.75120197|  1124|  02|   02|    18|    08|  1990| 030|   2|   4|   7|NULL| NULL| NULL|NULL| NULL|NULL|NULL|    2|    2|    2|    2|    2|    2|    2|    2|    2|     2|     2|     2|     2|NULL| NULL| NULL| NULL| NULL| NULL| NULL| NULL| NULL| NULL| NULL| NULL| NULL| NULL|NULL|NULL|   2|   2| NULL| NULL| NULL| NULL| NULL| NULL|    2|    2|    2|    2|    2|    2|   2|   1|NULL|NULL|NULL|NULL| NULL| NULL| NULL|   2|  07| NULL| NULL|   27|   20| NULL|  NULL|  NULL| NULL| 036| 036|    2|   1|    1|    04|00001045| NULL|  NULL|  NULL| NULL| NULL|    1|     1|     04|00001045|  NULL|   NULL|   NULL|   1|NULL|   2|NULL|NULL| NULL|    2| NULL|    2| NULL|    2| NULL|    2|    NULL|    1|00000600|    2| NULL|    2| NULL|   3| NULL| NULL| NULL| NULL|   1| NULL| NULL|     1|     1|     1|     2|     1|    1|   1|file:///content/P...|        112020|\n",
            "|2020| 11|     11|   NULL|   01|    4|   11|    7|1110011|110015970|    1|    1|144737|101.01170275|131.36101755|  1112|  03|   04|    25|    12|  2006| 013|   1|   4|   2|   1|    1|    3|   1| NULL|   5|   3|    2|    2|    2|    2|    2|    2|    2|    2|    2|     2|     2|     2|     2|NULL| NULL| NULL| NULL| NULL| NULL| NULL| NULL| NULL| NULL| NULL| NULL| NULL| NULL|NULL|NULL|   1|   2| NULL| NULL| NULL| NULL| NULL| NULL|    2|    2|    2|    2|    2|    2|   4|NULL|NULL|NULL|NULL|NULL| NULL| NULL| NULL|NULL|NULL| NULL| NULL| NULL| NULL| NULL|  NULL|  NULL| NULL|NULL|NULL| NULL|NULL| NULL|  NULL|    NULL| NULL|  NULL|  NULL| NULL| NULL| NULL|  NULL|   NULL|    NULL|  NULL|   NULL|   NULL|NULL|NULL|NULL|NULL|NULL| NULL|    2| NULL|    2| NULL|    2| NULL|    2|    NULL|    1|00000600|    2| NULL|    2| NULL|   3| NULL| NULL| NULL| NULL|   1| NULL| NULL|     1|     1|     1|     2|     1|    1|   1|file:///content/P...|        112020|\n",
            "|2020| 11|     11|   NULL|   01|    4|   11|    7|1110011|110015970|    1|    1|144737|101.01170275|131.36101755|  1112|  04|   04|    24|    08|  2009| 011|   1|   4|   2|   1|    1|    3|   1| NULL|   5|   3|    2|    2|    2|    2|    2|    2|    2|    2|    2|     2|     2|     2|     2|NULL| NULL| NULL| NULL| NULL| NULL| NULL| NULL| NULL| NULL| NULL| NULL| NULL| NULL|NULL|NULL|   1|   2| NULL| NULL| NULL| NULL| NULL| NULL|    2|    2|    2|    2|    2|    2|   4|NULL|NULL|NULL|NULL|NULL| NULL| NULL| NULL|NULL|NULL| NULL| NULL| NULL| NULL| NULL|  NULL|  NULL| NULL|NULL|NULL| NULL|NULL| NULL|  NULL|    NULL| NULL|  NULL|  NULL| NULL| NULL| NULL|  NULL|   NULL|    NULL|  NULL|   NULL|   NULL|NULL|NULL|NULL|NULL|NULL| NULL|    2| NULL|    2| NULL|    2| NULL|    2|    NULL|    1|00000600|    2| NULL|    2| NULL|   3| NULL| NULL| NULL| NULL|   1| NULL| NULL|     1|     1|     1|     2|     1|    1|   1|file:///content/P...|        112020|\n",
            "|2020| 11|     11|   NULL|   02|    1|   11|    7|1110011|110015970|    1|    1| 92377|101.01170275|100.73351653|  1126|  01|   01|    18|    05|  1963| 057|   2|   1|   2|NULL| NULL| NULL|NULL| NULL|NULL|NULL|    2|    2|    2|    2|    2|    2|    2|    2|    2|     2|     2|     2|     2|NULL| NULL| NULL| NULL| NULL| NULL| NULL| NULL| NULL| NULL| NULL| NULL| NULL| NULL|NULL|NULL|   2|   2| NULL| NULL| NULL| NULL| NULL| NULL|    2|    2|    2|    2|    2|    2|   2|   2|   2|NULL|NULL|NULL| NULL| NULL| NULL|NULL|NULL| NULL| NULL| NULL| NULL| NULL|  NULL|  NULL| NULL|NULL|NULL| NULL|NULL| NULL|  NULL|    NULL| NULL|  NULL|  NULL| NULL| NULL| NULL|  NULL|   NULL|    NULL|  NULL|   NULL|   NULL|NULL|NULL|   2|   2|  01|    1|    2| NULL|    2| NULL|    2| NULL|    1|00001045|    2|    NULL|    2| NULL|    2| NULL|   3| NULL| NULL| NULL| NULL|   1| NULL| NULL|     1|     1|     1|     2|     1|    1|   1|file:///content/P...|        112020|\n",
            "+----+---+-------+-------+-----+-----+-----+-----+-------+---------+-----+-----+------+------------+------------+------+----+-----+------+------+------+----+----+----+----+----+-----+-----+----+-----+----+----+-----+-----+-----+-----+-----+-----+-----+-----+-----+------+------+------+------+----+-----+-----+-----+-----+-----+-----+-----+-----+-----+-----+-----+-----+-----+----+----+----+----+-----+-----+-----+-----+-----+-----+-----+-----+-----+-----+-----+-----+----+----+----+----+----+----+-----+-----+-----+----+----+-----+-----+-----+-----+-----+------+------+-----+----+----+-----+----+-----+------+--------+-----+------+------+-----+-----+-----+------+-------+--------+------+-------+-------+----+----+----+----+----+-----+-----+-----+-----+-----+-----+-----+-----+--------+-----+--------+-----+-----+-----+-----+----+-----+-----+-----+-----+----+-----+-----+------+------+------+------+------+-----+----+--------------------+--------------+\n",
            "only showing top 5 rows\n",
            "\n"
          ]
        }
      ],
      "source": [
        "#importando dados\n",
        "df = spark.read.csv(\n",
        "    \"/content/PNAD_COVID_*.csv\",   # lê todos os CSV que batem com o padrão\n",
        "    header=True,\n",
        "    sep=\",\",\n",
        "    inferSchema=True\n",
        ")\n",
        "\n",
        "#Capturo o nome dos arquivos para criar uma coluna nova com Mes/ano do dado\n",
        "df = df.withColumn(\"input_file\", F.input_file_name())\n",
        "df = df.withColumn(\n",
        "    \"mes_referencia\",\n",
        "    F.regexp_extract(F.col(\"input_file\"), r\"PNAD_COVID_(\\d{6})\", 1)\n",
        ")\n",
        "df.show(5)"
      ]
    },
    {
      "cell_type": "markdown",
      "metadata": {
        "id": "Pdysza2YjBt_"
      },
      "source": [
        "#Tratando os dados\n"
      ]
    },
    {
      "cell_type": "code",
      "execution_count": null,
      "metadata": {
        "colab": {
          "base_uri": "https://localhost:8080/"
        },
        "id": "JBsJMFQasGHk",
        "outputId": "113f55eb-ef0c-4c6e-c635-d99a3b584951"
      },
      "outputs": [
        {
          "output_type": "stream",
          "name": "stdout",
          "text": [
            "linhas após select: 1075550\n",
            "+---+-----+----+----+-----+-----+-----+-----+-----+-----+-----+-----+-----+------+------+------+----+-----+----+----+-----+-----+-----+-----+-----+-----+-----+----+--------+-----+----+--------------+\n",
            "| UF|V1022|A002|A003|B0011|B0012|B0013|B0014|B0015|B0016|B0017|B0018|B0019|B00110|B00111|B00112|B002|B0031|B007|B008|B009B|B0101|B0102|B0103|B0104|B0105|B0106|B011|  C01012|D0051|E001|mes_referencia|\n",
            "+---+-----+----+----+-----+-----+-----+-----+-----+-----+-----+-----+-----+------+------+------+----+-----+----+----+-----+-----+-----+-----+-----+-----+-----+----+--------+-----+----+--------------+\n",
            "| 11|    1| 036|   1|    2|    2|    2|    2|    2|    2|    2|    2|    2|     2|     2|     2|NULL| NULL|   1|   2| NULL|    2|    2|    2|    2|    2|    2|   2|00001045|    1|   3|        112020|\n",
            "| 11|    1| 030|   2|    2|    2|    2|    2|    2|    2|    2|    2|    2|     2|     2|     2|NULL| NULL|   2|   2| NULL|    2|    2|    2|    2|    2|    2|   2|00001045|    1|   3|        112020|\n",
            "| 11|    1| 013|   1|    2|    2|    2|    2|    2|    2|    2|    2|    2|     2|     2|     2|NULL| NULL|   1|   2| NULL|    2|    2|    2|    2|    2|    2|   4|    NULL|    1|   3|        112020|\n",
            "| 11|    1| 011|   1|    2|    2|    2|    2|    2|    2|    2|    2|    2|     2|     2|     2|NULL| NULL|   1|   2| NULL|    2|    2|    2|    2|    2|    2|   4|    NULL|    1|   3|        112020|\n",
            "| 11|    1| 057|   2|    2|    2|    2|    2|    2|    2|    2|    2|    2|     2|     2|     2|NULL| NULL|   2|   2| NULL|    2|    2|    2|    2|    2|    2|   2|    NULL|    2|   3|        112020|\n",
            "+---+-----+----+----+-----+-----+-----+-----+-----+-----+-----+-----+-----+------+------+------+----+-----+----+----+-----+-----+-----+-----+-----+-----+-----+----+--------+-----+----+--------------+\n",
            "only showing top 5 rows\n",
            "\n"
          ]
        }
      ],
      "source": [
        "colunas = ['UF',\n",
        "'V1022',\n",
        "'A002',\n",
        "'A003',\n",
        "'B0011',\n",
        "'B0012',\n",
        "'B0013',\n",
        "'B0014',\n",
        "'B0015',\n",
        "'B0016',\n",
        "'B0017',\n",
        "'B0018',\n",
        "'B0019',\n",
        "'B00110',\n",
        "'B00111',\n",
        "'B00112',\n",
        "'B002',\n",
        "'B0031',\n",
        "'B007',\n",
        "'B008',\n",
        "'B009B',\n",
        "'B0101',\n",
        "'B0102',\n",
        "'B0103',\n",
        "'B0104',\n",
        "'B0105',\n",
        "'B0106',\n",
        "'B011',\n",
        "'C01012',\n",
        "'D0051',\n",
        "'E001',\n",
        "'mes_referencia']\n",
        "\n",
        "df = df.select(*[c for c in colunas if c in df.columns])\n",
        "\n",
        "print(\"linhas após select:\", df.count())\n",
        "df.show(5)\n"
      ]
    },
    {
      "cell_type": "code",
      "execution_count": null,
      "metadata": {
        "colab": {
          "base_uri": "https://localhost:8080/"
        },
        "id": "zjVVMXSJ-iJt",
        "outputId": "f0c40638-cc94-4fb5-d97a-045a6d348866"
      },
      "outputs": [
        {
          "output_type": "execute_result",
          "data": {
            "text/plain": [
              "{'Ano': 'Ano de referência',\n",
              " 'UF': 'Unidade da Federação',\n",
              " 'CAPITAL': 'Capital',\n",
              " 'RM_RIDE': 'Região Metropolitana e Região Administrativa Integrada\\nde Desenvolvimento',\n",
              " 'V1008': 'Número de seleção do domicílio',\n",
              " 'V1012': 'Semana no mês',\n",
              " 'V1013': 'Mês da pesquisa',\n",
              " 'V1016': 'Número da entrevista no domicílio',\n",
              " 'Estrato': 'Estrato',\n",
              " 'UPA': 'UPA',\n",
              " 'V1022': 'Situação do domicílio',\n",
              " 'V1023': 'Tipo de área',\n",
              " 'V1030': 'Projeção da população',\n",
              " 'V1031': 'Peso do domicílio e das pessoas',\n",
              " 'V1032': 'Peso do domicílio e das pessoas',\n",
              " 'posest': 'Domínios de projeção',\n",
              " 'A001': 'Número de ordem',\n",
              " 'A001A': 'Condição no domicílio',\n",
              " 'A001B1': 'Dia de nascimento',\n",
              " 'A001B2': 'Mês de nascimento',\n",
              " 'A001B3': 'Ano de nascimento',\n",
              " 'A002': 'Idade do morador ',\n",
              " 'A003': 'Sexo',\n",
              " 'A004': 'Cor ou raça',\n",
              " 'A005': 'Escolaridade',\n",
              " 'A006': 'Frequenta escola',\n",
              " 'A007': 'Na semana passada, _____ foram disponibilizadas atividades escolares para realizar em casa?',\n",
              " 'A008': 'Na semana passada, em quantos dias _____ dedicou-se às atividades escolares? ',\n",
              " 'A009': 'Na semana passada, quanto tempo por dia ____ gastou fazendo as atividades escolares?  escolares? ',\n",
              " 'B0011': 'Na semana passada teve febre?',\n",
              " 'B0012': 'Na semana passada teve tosse?',\n",
              " 'B0013': 'Na semana passada teve dor de garganta?',\n",
              " 'B0014': 'Na semana passada teve dificuldade para respirar?',\n",
              " 'B0015': 'Na semana passada teve dor de cabeça?',\n",
              " 'B0016': 'Na semana passada teve dor no peito?',\n",
              " 'B0017': 'Na semana passada teve náusea?',\n",
              " 'B0018': 'Na semana passada teve nariz entupido ou escorrendo?',\n",
              " 'B0019': 'Na semana passada teve fadiga?',\n",
              " 'B00110': 'Na semana passada teve dor nos olhos?',\n",
              " 'B00111': 'Na semana passada teve perda de cheiro ou sabor?',\n",
              " 'B00112': 'Na semana passada teve dor muscular?',\n",
              " 'B00113': 'Na semana passada teve diarreia?',\n",
              " 'B002': 'Por causa disso, foi a algum estabelecimento de saúde?',\n",
              " 'B0031': 'Providência tomada para recuperar dos sintomas foi ficar em casa',\n",
              " 'B0032': 'Providência tomada para recuperar dos sintomas foi ligar para algum profissional de saúde',\n",
              " 'B0033': 'Providência tomada  para recuperar dos sintomas foi comprar e/ou tomar  remédio por conta própria',\n",
              " 'B0034': 'Providência tomada para recuperar dos sintomas foi comprar e/ou tomar remédio por orientação médica',\n",
              " 'B0035': 'Providência tomada para recuperar dos sintomas foi receber visita de algum profissional de saúde do SUS (equipe de saúde da família, agente comunitário, etc.)',\n",
              " 'B0036': 'Providência tomada para recuperar dos sintomas foi receber visita de profissional de saúde particular ',\n",
              " 'B0037': 'Providência tomada para recuperar dos sintomas foi outra',\n",
              " 'B0041': 'Local que buscou atendimento foi posto de saúde/Unidade básica de saúde /Equipe de Saúde da Família (médico, enfermeiro, técnico de enfermagem ou agente comunitário de saúde)',\n",
              " 'B0042': 'Local que buscou atendimento foi pronto socorro do SUS/UPA',\n",
              " 'B0043': 'Local que buscou atendimento foi hospital do SUS',\n",
              " 'B0044': 'Local que buscou atendimento foi ambulatório ou consultório privado ou ligado às forças armadas',\n",
              " 'B0045': 'Local que buscou atendimento foi pronto socorro privado ou ligado às forças armadas',\n",
              " 'B0046': 'Local que buscou atendimento foi hospital privado ou ligado às forças armadas',\n",
              " 'B005': 'Ao procurar o hospital, teve que ficar internado por um dia ou mais',\n",
              " 'B006': 'Durante a internação, foi sedado, entubado e colocado em respiração artificial com ventilador',\n",
              " 'B007': 'Tem algum plano de saúde médico, seja particular, de empresa ou de órgão público',\n",
              " 'B008': 'O(A) Sr(a) fez algum teste para saber se estava infectado(a) pelo coronavírus? ',\n",
              " 'B009A': 'Fez o exame coletado com cotonete na boca e/ou nariz (SWAB)? ',\n",
              " 'B009B': 'Qual o resultado?',\n",
              " 'B009C': 'Fez o exame de coleta de sangue através de furo no dedo?',\n",
              " 'B009D': 'Qual o resultado?',\n",
              " 'B009E': 'Fez o exame de coleta de sangue através da veia da braço?',\n",
              " 'B009F': 'Qual o resultado?',\n",
              " 'B0101': 'Algum médico já lhe deu o diagnóstico de diabetes?',\n",
              " 'B0102': 'Algum médico já lhe deu o diagnóstico de hipertensão?',\n",
              " 'B0103': 'Algum médico já lhe deu o diagnóstico de asma/bronquite/enfisema/doenças respiratória crônica ou doença de pulmão?',\n",
              " 'B0104': 'Algum médico já lhe deu o diagnóstico de doenças do coração (infarto, angina, insuficiência cardíaca, arritmia)?',\n",
              " 'B0105': 'Algum médico já lhe deu o diagnóstico de depressão?',\n",
              " 'B0106': 'Algum médico já lhe deu o diagnóstico de câncer?',\n",
              " 'B011': 'Qual foi o resultado do teste?  Na semana passada, devido à pandemia do Coronavírus, em que medida o(a) Sr(a) restringiu o contato com as pessoas? ',\n",
              " 'C001': 'Na semana passada, por pelo menos uma hora, trabalhou ou fez algum bico?',\n",
              " 'C002': 'Na semana passada, estava temporariamente afastado de algum trabalho?',\n",
              " 'C003': 'Qual o principal motivo deste afastamento temporário?',\n",
              " 'C004': 'Continuou a ser remunerado (mesmo que parcialmente) por esse trabalho',\n",
              " 'C005': 'Há quanto tempo está afastado desse trabalho?',\n",
              " 'C0051': ' tempo que estava afastado (De 1 mês a menos de 1 ano) ',\n",
              " 'C0052': 'tempo que estava afastado (De 1 ano a menos de 2 anos) ',\n",
              " 'C0053': 'tempo que estava afastado (de 02 anos a 98 anos) ',\n",
              " 'C006': 'Tem mais de um trabalho',\n",
              " 'C007': 'No trabalho (único ou principal) que tinha nessa semana, era:',\n",
              " 'C007A': 'Esse trabalho era na área:',\n",
              " 'C007B': 'Tem carteira de trabalho assinada ou é funcionário público estatutário?',\n",
              " 'C007C': 'Que tipo de trabalho, cargo ou função você realiza no seu trabalho (único ou principal)? ',\n",
              " 'C007D': 'Qual é a principal atividade do local ou empresa em que você trabalha? ',\n",
              " 'C007E': 'Na semana passada, quantos empregados trabalhavam nesse negócio/empresa que ... tinha ?',\n",
              " 'C007E1': '1 a 5 empregados',\n",
              " 'C007E2': '6 a 10 empregados',\n",
              " 'C007F': 'No trabalho (único ou principal) que tinha nessa semana, o(a) Sr(a) estava com o contrato de trabalho suspenso?',\n",
              " 'C008': 'Quantas horas, por semana, normalmente trabalhava?',\n",
              " 'C009': 'Quantas horas, na semana passada, de fato trabalhou?',\n",
              " 'C009A': 'Na semana passada, o(a) Sr(a) gostaria de ter trabalhado mais horas do que as de fato trabalhadas? ',\n",
              " 'C010': 'Quanto recebia (ou retirava) normalmente em todos os seus trabalhos',\n",
              " 'C0101': 'Recebia/retirava normalmente em dinheiro',\n",
              " 'C01011': 'Número da faixa do rendimento/retirada em dinheiro',\n",
              " 'C01012': 'Valor em dinheiro',\n",
              " 'C0102': 'Recebia normalmente em produtos e mercadorias',\n",
              " 'C01021': 'Número da faixa do rendimento/retirada em produtos e mercadorias',\n",
              " 'C01022': 'Valor em produtos e mercadorias',\n",
              " 'C0103': 'Recebia normalmente somente em benefícios',\n",
              " 'C0104': 'Era não remunerado',\n",
              " 'C011A': 'Quanto recebia (ou retirava) efetivamente em todos os seus trabalhos',\n",
              " 'C011A1': 'Recebia/retirava efetivamente em dinheiro',\n",
              " 'C011A11': 'Número da faixa do rendimento/retirada em dinheiro',\n",
              " 'C011A12': 'Valor em dinheiro',\n",
              " 'C011A2': 'Recebia efetivamente em produtos e mercadorias',\n",
              " 'C011A21': 'Número da faixa do rendimento/retirada em produtos e mercadorias',\n",
              " 'C011A22': 'Valor em produtos e mercadorias',\n",
              " 'C012': 'Na maior parte do tempo, na semana passada, esse trabalho (único ou principal) foi exercido no mesmo local em que costuma trabalhar? ',\n",
              " 'C013': 'Na semana passada, o(a) Sr(a) estava em trabalho remoto (home office ou teletrabalho)?',\n",
              " 'C014': 'O(A) Sr(a) contribui para o INSS?  ',\n",
              " 'C015': 'Na semana passada ___ tomou alguma providência efetiva para conseguir trabalho?  ',\n",
              " 'C016': 'Qual o principal motivo de não ter procurado trabalho na semana passada? ',\n",
              " 'C017A': 'Embora você não tenha procurado trabalho, gostaria de ter trabalhado na semana passada?',\n",
              " 'D0011': 'Rendimento recebido de aposentadoria e pensão por todos os moradores',\n",
              " 'D0013': 'Somatório dos valores recebidos',\n",
              " 'D0021': 'Rendimento de pensão alimentícia, doação ou mesada em dinheiro de pessoa que não morava no domicílio',\n",
              " 'D0023': 'Somatório dos valores recebidos',\n",
              " 'D0031': 'Rendimentos de Programa Bolsa Família',\n",
              " 'D0033': 'Somatório dos valores recebidos',\n",
              " 'D0041': ' No mês de ... (mês de referência), ... recebeu rendimentos de Benefício Assistencial de Prestação Continuada – BPC-LOAS?',\n",
              " 'D0043': 'Somatório dos valores recebidos',\n",
              " 'D0051': 'Auxílios emergenciais relacionados ao coronavirus',\n",
              " 'D0053': 'Somatório dos valores recebidos',\n",
              " 'D0061': 'Seguro desemprego',\n",
              " 'D0063': 'Somatório dos valores recebidos',\n",
              " 'D0071': 'Outros rendimentos, como aluguel, arrendamento, previdência privada, bolsa de estudos, rendimentos de aplicação financeira etc.',\n",
              " 'D0073': 'Somatório dos valores recebidos',\n",
              " 'E001': 'Durante o período da pandemia alguém deste domicílio solicitou algum empréstimo?  ',\n",
              " 'E0021': 'Este empréstimo foi adquirido com banco ou financeira',\n",
              " 'E0022': 'Este empréstimo foi adquirido com parente ou amigo',\n",
              " 'E0023': 'Este empréstimo foi adquirido com empregados ou patrão',\n",
              " 'E0024': 'Este empréstimo foi adquirido com outro local ou pessoa',\n",
              " 'F001': 'Este domicílio é: ',\n",
              " 'F0021': 'Qual foi o valor mensal do aluguel pago, ou que deveria ter sido pago, no mês de referência?',\n",
              " 'F0022': 'Número da faixa do aluguel pago',\n",
              " 'F002A1': 'No seu domicílio há os seguintes itens básicos de limpeza e proteção: sabão ou detergente',\n",
              " 'F002A2': 'No seu domicílio há os seguintes itens básicos de limpeza e proteção: álcool 70% ou superior (gel ou líquido)',\n",
              " 'F002A3': 'No seu domicílio há os seguintes itens básicos de limpeza e proteção: máscaras',\n",
              " 'F002A4': 'No seu domicílio há os seguintes itens básicos de limpeza e proteção: luvas descartáveis',\n",
              " 'F002A5': 'No seu domicílio há os seguintes itens básicos de limpeza e proteção: água sanitária ou desinfetante',\n",
              " 'F0061': 'Quem respondeu ao questionário?',\n",
              " 'F006': 'Número de ordem do morador que prestou as informações',\n",
              " 'A006A': 'A escola / escola ou faculdade que frequenta é pública ou privada?',\n",
              " 'A006B': 'Você está tendo aulas presenciais?',\n",
              " 'A007A': 'Por que não realizou as atividades disponibilizadas na semana passada?'}"
            ]
          },
          "metadata": {},
          "execution_count": 8
        }
      ],
      "source": [
        "# --- 1. Criar dicionários ---\n",
        "map_vars = dict(zip(df_dic[\"codigo_var\"], df_dic[\"nome_var\"]))\n",
        "\n",
        "map_values = {}\n",
        "for var in df_dic[\"codigo_var\"].unique():\n",
        "    sub = df_dic[df_dic[\"codigo_var\"] == var]\n",
        "    d = dict(zip(sub[\"codigo_valor\"], sub[\"descricao_valor\"]))\n",
        "    if d:  # só se tiver categorias\n",
        "        map_values[var] = d\n",
        "\n",
        "map_vars"
      ]
    },
    {
      "cell_type": "code",
      "execution_count": null,
      "metadata": {
        "id": "_UYpDeCo11R2"
      },
      "outputs": [],
      "source": [
        "def substituir_valores_df(df, map_values):\n",
        "    \"\"\"\n",
        "    Substitui valores das colunas no DataFrame usando os mapeamentos de map_values\n",
        "    e normaliza os nomes das colunas (sem acento, ç->c, sem espaços, sem caracteres especiais).\n",
        "    \"\"\"\n",
        "\n",
        "    # 🔹 Normaliza os nomes das colunas antes de processar\n",
        "    col_map = {col: normalizar_nome(col) for col in df.columns}\n",
        "    df = df.toDF(*[col_map[c] for c in df.columns])\n",
        "\n",
        "    # 🔹 Também normaliza as chaves do dicionário map_values\n",
        "    new_map_values = {}\n",
        "    for col, mapping in map_values.items():\n",
        "        col_norm = normalizar_nome(col)\n",
        "        new_map_values[col_norm] = mapping\n",
        "    map_values = new_map_values\n",
        "\n",
        "    # 🔹 Substitui os valores conforme o dicionário\n",
        "    for col, mapping in map_values.items():\n",
        "        if col not in df.columns:\n",
        "            continue\n",
        "\n",
        "        # Normaliza as chaves e valores para string\n",
        "        mapping = {str(k).strip(): (str(v).strip() if v is not None else None)\n",
        "                   for k, v in mapping.items()}\n",
        "\n",
        "        # Normaliza a coluna para string e remove \".0\"\n",
        "        df = df.withColumn(col, F.trim(F.col(col).cast(\"string\")))\n",
        "        df = df.withColumn(col, F.regexp_replace(F.col(col), r\"\\.0$\", \"\"))\n",
        "\n",
        "        # Cria mapping expression\n",
        "        map_items = []\n",
        "        for k, v in mapping.items():\n",
        "            if k.lower() in (\"nan\", \"none\", \"<na>\", \"\"):\n",
        "                continue\n",
        "            map_items.extend([F.lit(k), F.lit(v)])\n",
        "\n",
        "        if not map_items:\n",
        "            continue\n",
        "\n",
        "        mapping_expr = F.create_map(*map_items)\n",
        "\n",
        "        # Substitui valores (mantém original se não existir no mapping)\n",
        "        df = df.withColumn(\n",
        "            col,\n",
        "            F.coalesce(\n",
        "                mapping_expr.getItem(F.col(col)),\n",
        "                F.col(col)\n",
        "            )\n",
        "        )\n",
        "\n",
        "    return df\n",
        "\n",
        "def normalizar_nome(nome):\n",
        "    \"\"\"Normaliza string para nome de coluna: remove acentos, pontuação, espaços -> _, lower.\"\"\"\n",
        "    if not isinstance(nome, str):\n",
        "        return nome\n",
        "    s = unicodedata.normalize(\"NFD\", nome)\n",
        "    s = s.encode(\"ascii\", \"ignore\").decode(\"utf-8\")\n",
        "    s = s.lower().replace(\"ç\", \"c\")\n",
        "    s = re.sub(r\"[,\\?\\.\\-/():;]\", \"\", s)\n",
        "    s = re.sub(r\"\\s+\", \"_\", s)\n",
        "    s = re.sub(r\"_+\", \"_\", s)\n",
        "    s = s.strip(\"_\")\n",
        "    return s\n",
        "\n",
        "def achar_col_variantes(df, codigo, human_name=None):\n",
        "    \"\"\"\n",
        "    Tenta localizar no df uma coluna correspondente ao codigo.\n",
        "    Testa várias variantes: codigo, codigo.lower, codigo.upper, normalizar(codigo),\n",
        "    human_name (e normalizada).\n",
        "    Retorna o nome da coluna encontrada (ou None).\n",
        "    \"\"\"\n",
        "    candidates = []\n",
        "    candidates.append(str(codigo))\n",
        "    candidates.append(str(codigo).lower())\n",
        "    candidates.append(str(codigo).upper())\n",
        "    candidates.append(normalizar_nome(str(codigo)))\n",
        "    candidates.append(normalizar_nome(str(codigo)).lower())\n",
        "    if human_name:\n",
        "        candidates.append(str(human_name))\n",
        "        candidates.append(str(human_name).lower())\n",
        "        candidates.append(normalizar_nome(str(human_name)))\n",
        "        candidates.append(normalizar_nome(str(human_name)).lower())\n",
        "    # remove duplicados preservando ordem\n",
        "    seen = set()\n",
        "    candidates = [c for c in candidates if not (c in seen or seen.add(c))]\n",
        "    cols = set(df.columns)\n",
        "    for c in candidates:\n",
        "        if c in cols:\n",
        "            return c\n",
        "    return None\n",
        "\n",
        "def renomear_colunas_robusto(df, map_vars, normalize_to_snake=True, verbose=True):\n",
        "    \"\"\"\n",
        "    Renomeia as colunas do df usando map_vars (codigo -> nome legivel).\n",
        "    - Procura a coluna atual testando variantes do código e do nome legivel.\n",
        "    - Renomeia para normalizar_nome(nome_legivel) por padrão (snake_case).\n",
        "    - Retorna df atualizado, lista renomeados, lista nao_encontrados.\n",
        "    \"\"\"\n",
        "    # garantir strings limpas no map_vars\n",
        "    map_vars_clean = {str(k).strip(): str(v).strip() for k,v in map_vars.items()}\n",
        "    renomeados = []\n",
        "    nao_encontrados = []\n",
        "\n",
        "    for codigo, human in map_vars_clean.items():\n",
        "        found = achar_col_variantes(df, codigo, human)\n",
        "        if not found:\n",
        "            nao_encontrados.append(codigo)\n",
        "            continue\n",
        "\n",
        "        # novo nome final\n",
        "        novo = normalizar_nome(human) if normalize_to_snake else human\n",
        "\n",
        "        # se já existe e é diferente, resolver colisão criando sufixo\n",
        "        if novo in df.columns and novo != found:\n",
        "            # criar nome único\n",
        "            i = 1\n",
        "            novo_alt = f\"{novo}_{i}\"\n",
        "            while novo_alt in df.columns:\n",
        "                i += 1\n",
        "                novo_alt = f\"{novo}_{i}\"\n",
        "\n",
        "\n",
        "            df = df.withColumnRenamed(found, novo_alt)\n",
        "            renomeados.append((found, novo_alt))\n",
        "        else:\n",
        "            if found == novo:\n",
        "                # já está no formato desejado (não faz nada)\n",
        "                renomeados.append((found, novo))\n",
        "            else:\n",
        "                df = df.withColumnRenamed(found, novo)\n",
        "                renomeados.append((found, novo))\n",
        "\n",
        "\n",
        "\n",
        "    return df, renomeados, nao_encontrados"
      ]
    },
    {
      "cell_type": "code",
      "execution_count": null,
      "metadata": {
        "colab": {
          "base_uri": "https://localhost:8080/"
        },
        "id": "RLFbrBDPtr79",
        "outputId": "757e91f7-b789-47cd-b15d-d53d140542a5"
      },
      "outputs": [
        {
          "output_type": "stream",
          "name": "stderr",
          "text": [
            "/usr/local/lib/python3.12/dist-packages/pyspark/sql/column.py:460: FutureWarning: A column as 'key' in getItem is deprecated as of Spark 3.0, and will not be supported in the future release. Use `column[key]` or `column.key` syntax instead.\n",
            "  warnings.warn(\n"
          ]
        },
        {
          "output_type": "stream",
          "name": "stdout",
          "text": [
            "Colunas atuais (preview): ['unidade_da_federacao', 'situacao_do_domicilio', 'idade_do_morador', 'sexo', 'na_semana_passada_teve_febre', 'na_semana_passada_teve_tosse', 'na_semana_passada_teve_dor_de_garganta', 'na_semana_passada_teve_dificuldade_para_respirar', 'na_semana_passada_teve_dor_de_cabeca', 'na_semana_passada_teve_dor_no_peito', 'na_semana_passada_teve_nausea', 'na_semana_passada_teve_nariz_entupido_ou_escorrendo', 'na_semana_passada_teve_fadiga', 'na_semana_passada_teve_dor_nos_olhos', 'na_semana_passada_teve_perda_de_cheiro_ou_sabor', 'na_semana_passada_teve_dor_muscular', 'por_causa_disso_foi_a_algum_estabelecimento_de_saude', 'providencia_tomada_para_recuperar_dos_sintomas_foi_ficar_em_casa', 'tem_algum_plano_de_saude_medico_seja_particular_de_empresa_ou_de_orgao_publico', 'oa_sra_fez_algum_teste_para_saber_se_estava_infectadoa_pelo_coronavirus', 'qual_o_resultado', 'algum_medico_ja_lhe_deu_o_diagnostico_de_diabetes', 'algum_medico_ja_lhe_deu_o_diagnostico_de_hipertensao', 'algum_medico_ja_lhe_deu_o_diagnostico_de_asmabronquiteenfisemadoencas_respiratoria_cronica_ou_doenca_de_pulmao', 'algum_medico_ja_lhe_deu_o_diagnostico_de_doencas_do_coracao_infarto_angina_insuficiencia_cardiaca_arritmia', 'algum_medico_ja_lhe_deu_o_diagnostico_de_depressao', 'algum_medico_ja_lhe_deu_o_diagnostico_de_cancer', 'qual_foi_o_resultado_do_teste_na_semana_passada_devido_a_pandemia_do_coronavirus_em_que_medida_oa_sra_restringiu_o_contato_com_as_pessoas', 'valor_em_dinheiro', 'auxilios_emergenciais_relacionados_ao_coronavirus', 'durante_o_periodo_da_pandemia_alguem_deste_domicilio_solicitou_algum_emprestimo', 'mes_referencia']\n",
            "+--------------------+---------------------+----------------+------+----------------------------+----------------------------+--------------------------------------+------------------------------------------------+------------------------------------+-----------------------------------+-----------------------------+---------------------------------------------------+-----------------------------+------------------------------------+-----------------------------------------------+-----------------------------------+----------------------------------------------------+----------------------------------------------------------------+------------------------------------------------------------------------------+-----------------------------------------------------------------------+----------------+-------------------------------------------------+----------------------------------------------------+--------------------------------------------------------------------------------------------------------------+----------------------------------------------------------------------------------------------------------+--------------------------------------------------+-----------------------------------------------+-----------------------------------------------------------------------------------------------------------------------------------------+-----------------+-------------------------------------------------+-------------------------------------------------------------------------------+--------------+\n",
            "|unidade_da_federacao|situacao_do_domicilio|idade_do_morador|sexo  |na_semana_passada_teve_febre|na_semana_passada_teve_tosse|na_semana_passada_teve_dor_de_garganta|na_semana_passada_teve_dificuldade_para_respirar|na_semana_passada_teve_dor_de_cabeca|na_semana_passada_teve_dor_no_peito|na_semana_passada_teve_nausea|na_semana_passada_teve_nariz_entupido_ou_escorrendo|na_semana_passada_teve_fadiga|na_semana_passada_teve_dor_nos_olhos|na_semana_passada_teve_perda_de_cheiro_ou_sabor|na_semana_passada_teve_dor_muscular|por_causa_disso_foi_a_algum_estabelecimento_de_saude|providencia_tomada_para_recuperar_dos_sintomas_foi_ficar_em_casa|tem_algum_plano_de_saude_medico_seja_particular_de_empresa_ou_de_orgao_publico|oa_sra_fez_algum_teste_para_saber_se_estava_infectadoa_pelo_coronavirus|qual_o_resultado|algum_medico_ja_lhe_deu_o_diagnostico_de_diabetes|algum_medico_ja_lhe_deu_o_diagnostico_de_hipertensao|algum_medico_ja_lhe_deu_o_diagnostico_de_asmabronquiteenfisemadoencas_respiratoria_cronica_ou_doenca_de_pulmao|algum_medico_ja_lhe_deu_o_diagnostico_de_doencas_do_coracao_infarto_angina_insuficiencia_cardiaca_arritmia|algum_medico_ja_lhe_deu_o_diagnostico_de_depressao|algum_medico_ja_lhe_deu_o_diagnostico_de_cancer|qual_foi_o_resultado_do_teste_na_semana_passada_devido_a_pandemia_do_coronavirus_em_que_medida_oa_sra_restringiu_o_contato_com_as_pessoas|valor_em_dinheiro|auxilios_emergenciais_relacionados_ao_coronavirus|durante_o_periodo_da_pandemia_alguem_deste_domicilio_solicitou_algum_emprestimo|mes_referencia|\n",
            "+--------------------+---------------------+----------------+------+----------------------------+----------------------------+--------------------------------------+------------------------------------------------+------------------------------------+-----------------------------------+-----------------------------+---------------------------------------------------+-----------------------------+------------------------------------+-----------------------------------------------+-----------------------------------+----------------------------------------------------+----------------------------------------------------------------+------------------------------------------------------------------------------+-----------------------------------------------------------------------+----------------+-------------------------------------------------+----------------------------------------------------+--------------------------------------------------------------------------------------------------------------+----------------------------------------------------------------------------------------------------------+--------------------------------------------------+-----------------------------------------------+-----------------------------------------------------------------------------------------------------------------------------------------+-----------------+-------------------------------------------------+-------------------------------------------------------------------------------+--------------+\n",
            "|Rondônia            |Urbana               |036             |Homem |Não                         |Não                         |Não                                   |Não                                             |Não                                 |Não                                |Não                          |Não                                                |Não                          |Não                                 |Não                                            |Não                                |NULL                                                |NULL                                                            |Sim                                                                           |Não                                                                    |NULL            |Não                                              |Não                                                 |Não                                                                                                           |Não                                                                                                       |Não                                               |Não                                            |Reduziu o contato com as pessoas, mas continuou saindo de casa para trabalho ou atividades não essenciais e/ou recebendo visitas         |00001045         |Sim                                              |Não solicitou                                                                  |112020        |\n",
            "|Rondônia            |Urbana               |030             |Mulher|Não                         |Não                         |Não                                   |Não                                             |Não                                 |Não                                |Não                          |Não                                                |Não                          |Não                                 |Não                                            |Não                                |NULL                                                |NULL                                                            |Não                                                                           |Não                                                                    |NULL            |Não                                              |Não                                                 |Não                                                                                                           |Não                                                                                                       |Não                                               |Não                                            |Reduziu o contato com as pessoas, mas continuou saindo de casa para trabalho ou atividades não essenciais e/ou recebendo visitas         |00001045         |Sim                                              |Não solicitou                                                                  |112020        |\n",
            "|Rondônia            |Urbana               |013             |Homem |Não                         |Não                         |Não                                   |Não                                             |Não                                 |Não                                |Não                          |Não                                                |Não                          |Não                                 |Não                                            |Não                                |NULL                                                |NULL                                                            |Sim                                                                           |Não                                                                    |NULL            |Não                                              |Não                                                 |Não                                                                                                           |Não                                                                                                       |Não                                               |Não                                            |Ficou rigorosamente em casa                                                                                                              |NULL             |Sim                                              |Não solicitou                                                                  |112020        |\n",
            "|Rondônia            |Urbana               |011             |Homem |Não                         |Não                         |Não                                   |Não                                             |Não                                 |Não                                |Não                          |Não                                                |Não                          |Não                                 |Não                                            |Não                                |NULL                                                |NULL                                                            |Sim                                                                           |Não                                                                    |NULL            |Não                                              |Não                                                 |Não                                                                                                           |Não                                                                                                       |Não                                               |Não                                            |Ficou rigorosamente em casa                                                                                                              |NULL             |Sim                                              |Não solicitou                                                                  |112020        |\n",
            "|Rondônia            |Urbana               |057             |Mulher|Não                         |Não                         |Não                                   |Não                                             |Não                                 |Não                                |Não                          |Não                                                |Não                          |Não                                 |Não                                            |Não                                |NULL                                                |NULL                                                            |Não                                                                           |Não                                                                    |NULL            |Não                                              |Não                                                 |Não                                                                                                           |Não                                                                                                       |Não                                               |Não                                            |Reduziu o contato com as pessoas, mas continuou saindo de casa para trabalho ou atividades não essenciais e/ou recebendo visitas         |NULL             |Não                                              |Não solicitou                                                                  |112020        |\n",
            "+--------------------+---------------------+----------------+------+----------------------------+----------------------------+--------------------------------------+------------------------------------------------+------------------------------------+-----------------------------------+-----------------------------+---------------------------------------------------+-----------------------------+------------------------------------+-----------------------------------------------+-----------------------------------+----------------------------------------------------+----------------------------------------------------------------+------------------------------------------------------------------------------+-----------------------------------------------------------------------+----------------+-------------------------------------------------+----------------------------------------------------+--------------------------------------------------------------------------------------------------------------+----------------------------------------------------------------------------------------------------------+--------------------------------------------------+-----------------------------------------------+-----------------------------------------------------------------------------------------------------------------------------------------+-----------------+-------------------------------------------------+-------------------------------------------------------------------------------+--------------+\n",
            "\n"
          ]
        }
      ],
      "source": [
        "# 1) Substituir valores primeiro (se ainda não fez)\n",
        "df = substituir_valores_df(df, map_values)   # sua função existente\n",
        "\n",
        "# 2) Rodar renomeação robusta\n",
        "df, renomeados, nao_encontrados = renomear_colunas_robusto(df, map_vars, normalize_to_snake=True, verbose=True)\n",
        "\n",
        "# 3) Conferir rapidamente\n",
        "print(\"Colunas atuais (preview):\", df.columns[:60])\n",
        "df.limit(5).show(truncate=False)\n"
      ]
    },
    {
      "cell_type": "code",
      "execution_count": null,
      "metadata": {
        "id": "vPU1dg3d17vl"
      },
      "outputs": [],
      "source": [
        "# lista de colunas que indicam sintomas\n",
        "colunas_agrantes = [\n",
        "    \"algum_medico_ja_lhe_deu_o_diagnostico_de_diabetes\",\n",
        "    \"algum_medico_ja_lhe_deu_o_diagnostico_de_hipertensao\",\n",
        "    \"algum_medico_ja_lhe_deu_o_diagnostico_de_asmabronquiteenfisemadoencas_respiratoria_cronica_ou_doenca_de_pulmao\",\n",
        "    \"algum_medico_ja_lhe_deu_o_diagnostico_de_doencas_do_coracao_infarto_angina_insuficiencia_cardiaca_arritmia\",\n",
        "    \"algum_medico_ja_lhe_deu_o_diagnostico_de_depressao\",\n",
        "    \"algum_medico_ja_lhe_deu_o_diagnostico_de_cancer\"\n",
        "]\n",
        "\n",
        "# cria expressão condicional: se QUALQUER uma for \"Sim\", então \"Sim\"\n",
        "condicao_agravantes = None\n",
        "for c in colunas_agrantes:\n",
        "    expr = (F.col(c) == \"Sim\")\n",
        "    condicao_agravantes = expr if condicao_agravantes is None else (condicao_agravantes | expr)\n",
        "\n",
        "# adiciona a coluna nova\n",
        "df = df.withColumn(\n",
        "    \"diagnostico_agravante\",\n",
        "    F.when(condicao_agravantes, F.lit(\"Sim\")).otherwise(F.lit(\"Não\"))\n",
        ")\n",
        "\n"
      ]
    },
    {
      "cell_type": "code",
      "execution_count": null,
      "metadata": {
        "id": "COoqwUKK_YeK"
      },
      "outputs": [],
      "source": [
        "# lista de colunas que indicam sintomas\n",
        "colunas_sintomas = [\n",
        "    \"na_semana_passada_teve_febre\",\n",
        "    \"na_semana_passada_teve_tosse\",\n",
        "    \"na_semana_passada_teve_dor_de_garganta\",\n",
        "    \"na_semana_passada_teve_dificuldade_para_respirar\",\n",
        "    \"na_semana_passada_teve_dor_de_cabeca\",\n",
        "    \"na_semana_passada_teve_dor_no_peito\",\n",
        "    \"na_semana_passada_teve_nausea\",\n",
        "    \"na_semana_passada_teve_nariz_entupido_ou_escorrendo\",\n",
        "    \"na_semana_passada_teve_fadiga\",\n",
        "    \"na_semana_passada_teve_dor_nos_olhos\",\n",
        "    \"na_semana_passada_teve_perda_de_cheiro_ou_sabor\",\n",
        "    \"na_semana_passada_teve_dor_muscular\"\n",
        "]\n",
        "\n",
        "# cria expressão condicional: se QUALQUER uma for \"Sim\", então \"Sim\"\n",
        "condicao_sintomas = None\n",
        "for c in colunas_sintomas:\n",
        "    expr = (F.col(c) == \"Sim\")\n",
        "    condicao_sintomas = expr if condicao_sintomas is None else (condicao_sintomas | expr)\n",
        "\n",
        "# adiciona a coluna nova\n",
        "df = df.withColumn(\n",
        "    \"teve_sintomas\",\n",
        "    F.when(condicao_sintomas, F.lit(\"Sim\")).otherwise(F.lit(\"Não\"))\n",
        ")\n",
        "\n"
      ]
    },
    {
      "cell_type": "code",
      "execution_count": null,
      "metadata": {
        "id": "Ib5WK60i19zk"
      },
      "outputs": [],
      "source": [
        "df = df.withColumn(\n",
        "    \"classe_renda\",\n",
        "    F.when((F.col(\"valor_em_dinheiro\") < 1518), \"Classe E\")\n",
        "     .when((F.col(\"valor_em_dinheiro\") >= 1519) & (F.col(\"valor_em_dinheiro\") < 4554), \"Classe D\")\n",
        "     .when((F.col(\"valor_em_dinheiro\") >= 4554) & (F.col(\"valor_em_dinheiro\") < 7590), \"Classe C\")\n",
        "     .when((F.col(\"valor_em_dinheiro\") >= 7590) & (F.col(\"valor_em_dinheiro\") < 22270), \"Classe B\")\n",
        "     .when((F.col(\"valor_em_dinheiro\") > 22270) , \"Classe A\")\n",
        "     .otherwise(\"Não informado\")\n",
        ")"
      ]
    },
    {
      "cell_type": "code",
      "execution_count": null,
      "metadata": {
        "id": "YOPzFu2B7srj"
      },
      "outputs": [],
      "source": [
        "# dicionário estado → região\n",
        "estado_para_regiao = {\n",
        "    \"Acre\": \"Norte\",\n",
        "    \"Alagoas\": \"Nordeste\",\n",
        "    \"Amapá\": \"Norte\",\n",
        "    \"Amazonas\": \"Norte\",\n",
        "    \"Bahia\": \"Nordeste\",\n",
        "    \"Ceará\": \"Nordeste\",\n",
        "    \"Distrito Federal\": \"Centro-Oeste\",\n",
        "    \"Espírito Santo\": \"Sudeste\",\n",
        "    \"Goiás\": \"Centro-Oeste\",\n",
        "    \"Maranhão\": \"Nordeste\",\n",
        "    \"Mato Grosso\": \"Centro-Oeste\",\n",
        "    \"Mato Grosso do Sul\": \"Centro-Oeste\",\n",
        "    \"Minas Gerais\": \"Sudeste\",\n",
        "    \"Pará\": \"Norte\",\n",
        "    \"Paraíba\": \"Nordeste\",\n",
        "    \"Paraná\": \"Sul\",\n",
        "    \"Pernambuco\": \"Nordeste\",\n",
        "    \"Piauí\": \"Nordeste\",\n",
        "    \"Rio de Janeiro\": \"Sudeste\",\n",
        "    \"Rio Grande do Norte\": \"Nordeste\",\n",
        "    \"Rio Grande do Sul\": \"Sul\",\n",
        "    \"Rondônia\": \"Norte\",\n",
        "    \"Roraima\": \"Norte\",\n",
        "    \"Santa Catarina\": \"Sul\",\n",
        "    \"São Paulo\": \"Sudeste\",\n",
        "    \"Sergipe\": \"Nordeste\",\n",
        "    \"Tocantins\": \"Norte\"\n",
        "}\n",
        "\n",
        "# converte o dicionário em um map do PySpark\n",
        "map_expr = F.create_map([F.lit(x) for x in sum(estado_para_regiao.items(), ())])\n",
        "\n",
        "# cria a nova coluna com base no dicionário (mantém original se não achar no map)\n",
        "df = df.withColumn(\n",
        "    \"regiao\",\n",
        "    F.coalesce(map_expr.getItem(F.col(\"unidade_da_federacao\")), F.lit(\"Desconhecido\"))\n",
        ")\n"
      ]
    },
    {
      "cell_type": "code",
      "execution_count": null,
      "metadata": {
        "id": "7y-MUxR5vOhH"
      },
      "outputs": [],
      "source": [
        "df = df.withColumn(\n",
        "    \"faixa_etaria\",\n",
        "    F.when(F.col(\"idade_do_morador\") < 14, \"criança\")\n",
        "     .when((F.col(\"idade_do_morador\") >= 14) & (F.col(\"idade_do_morador\") <= 24), \"adoslecente_jovem\")\n",
        "     .when((F.col(\"idade_do_morador\") >= 25) & (F.col(\"idade_do_morador\") <= 59), \"adulto\")\n",
        "     .when(F.col(\"idade_do_morador\") >= 60, \"idoso\")\n",
        "     .otherwise(\"Não informado\")\n",
        ")"
      ]
    },
    {
      "cell_type": "code",
      "execution_count": null,
      "metadata": {
        "colab": {
          "base_uri": "https://localhost:8080/"
        },
        "id": "TXo_TtAluoqA",
        "outputId": "6555e9dc-e1bb-4a69-ce54-11ae2e562721"
      },
      "outputs": [
        {
          "output_type": "stream",
          "name": "stdout",
          "text": [
            "+--------------------+---------------------+----------------+------+----------------------------+----------------------------+--------------------------------------+------------------------------------------------+------------------------------------+-----------------------------------+-----------------------------+---------------------------------------------------+-----------------------------+------------------------------------+-----------------------------------------------+-----------------------------------+----------------------------------------------------+----------------------------------------------------------------+------------------------------------------------------------------------------+-----------------------------------------------------------------------+----------------+-------------------------------------------------+----------------------------------------------------+--------------------------------------------------------------------------------------------------------------+----------------------------------------------------------------------------------------------------------+--------------------------------------------------+-----------------------------------------------+-----------------------------------------------------------------------------------------------------------------------------------------+-----------------+-------------------------------------------------+-------------------------------------------------------------------------------+--------------+---------------------+-------------+-------------+------+------------+\n",
            "|unidade_da_federacao|situacao_do_domicilio|idade_do_morador|  sexo|na_semana_passada_teve_febre|na_semana_passada_teve_tosse|na_semana_passada_teve_dor_de_garganta|na_semana_passada_teve_dificuldade_para_respirar|na_semana_passada_teve_dor_de_cabeca|na_semana_passada_teve_dor_no_peito|na_semana_passada_teve_nausea|na_semana_passada_teve_nariz_entupido_ou_escorrendo|na_semana_passada_teve_fadiga|na_semana_passada_teve_dor_nos_olhos|na_semana_passada_teve_perda_de_cheiro_ou_sabor|na_semana_passada_teve_dor_muscular|por_causa_disso_foi_a_algum_estabelecimento_de_saude|providencia_tomada_para_recuperar_dos_sintomas_foi_ficar_em_casa|tem_algum_plano_de_saude_medico_seja_particular_de_empresa_ou_de_orgao_publico|oa_sra_fez_algum_teste_para_saber_se_estava_infectadoa_pelo_coronavirus|qual_o_resultado|algum_medico_ja_lhe_deu_o_diagnostico_de_diabetes|algum_medico_ja_lhe_deu_o_diagnostico_de_hipertensao|algum_medico_ja_lhe_deu_o_diagnostico_de_asmabronquiteenfisemadoencas_respiratoria_cronica_ou_doenca_de_pulmao|algum_medico_ja_lhe_deu_o_diagnostico_de_doencas_do_coracao_infarto_angina_insuficiencia_cardiaca_arritmia|algum_medico_ja_lhe_deu_o_diagnostico_de_depressao|algum_medico_ja_lhe_deu_o_diagnostico_de_cancer|qual_foi_o_resultado_do_teste_na_semana_passada_devido_a_pandemia_do_coronavirus_em_que_medida_oa_sra_restringiu_o_contato_com_as_pessoas|valor_em_dinheiro|auxilios_emergenciais_relacionados_ao_coronavirus|durante_o_periodo_da_pandemia_alguem_deste_domicilio_solicitou_algum_emprestimo|mes_referencia|diagnostico_agravante|teve_sintomas| classe_renda|regiao|faixa_etaria|\n",
            "+--------------------+---------------------+----------------+------+----------------------------+----------------------------+--------------------------------------+------------------------------------------------+------------------------------------+-----------------------------------+-----------------------------+---------------------------------------------------+-----------------------------+------------------------------------+-----------------------------------------------+-----------------------------------+----------------------------------------------------+----------------------------------------------------------------+------------------------------------------------------------------------------+-----------------------------------------------------------------------+----------------+-------------------------------------------------+----------------------------------------------------+--------------------------------------------------------------------------------------------------------------+----------------------------------------------------------------------------------------------------------+--------------------------------------------------+-----------------------------------------------+-----------------------------------------------------------------------------------------------------------------------------------------+-----------------+-------------------------------------------------+-------------------------------------------------------------------------------+--------------+---------------------+-------------+-------------+------+------------+\n",
            "|            Rondônia|               Urbana|             036| Homem|                         Não|                         Não|                                   Não|                                             Não|                                 Não|                                Não|                          Não|                                                Não|                          Não|                                 Não|                                            Não|                                Não|                                                NULL|                                                            NULL|                                                                           Sim|                                                                    Não|            NULL|                                              Não|                                                 Não|                                                                                                           Não|                                                                                                       Não|                                               Não|                                            Não|                                                                                                                     Reduziu o contato...|         00001045|                                              Sim|                                                                  Não solicitou|        112020|                  Não|          Não|     Classe E| Norte|      adulto|\n",
            "|            Rondônia|               Urbana|             030|Mulher|                         Não|                         Não|                                   Não|                                             Não|                                 Não|                                Não|                          Não|                                                Não|                          Não|                                 Não|                                            Não|                                Não|                                                NULL|                                                            NULL|                                                                           Não|                                                                    Não|            NULL|                                              Não|                                                 Não|                                                                                                           Não|                                                                                                       Não|                                               Não|                                            Não|                                                                                                                     Reduziu o contato...|         00001045|                                              Sim|                                                                  Não solicitou|        112020|                  Não|          Não|     Classe E| Norte|      adulto|\n",
            "|            Rondônia|               Urbana|             013| Homem|                         Não|                         Não|                                   Não|                                             Não|                                 Não|                                Não|                          Não|                                                Não|                          Não|                                 Não|                                            Não|                                Não|                                                NULL|                                                            NULL|                                                                           Sim|                                                                    Não|            NULL|                                              Não|                                                 Não|                                                                                                           Não|                                                                                                       Não|                                               Não|                                            Não|                                                                                                                     Ficou rigorosamen...|             NULL|                                              Sim|                                                                  Não solicitou|        112020|                  Não|          Não|Não informado| Norte|     criança|\n",
            "|            Rondônia|               Urbana|             011| Homem|                         Não|                         Não|                                   Não|                                             Não|                                 Não|                                Não|                          Não|                                                Não|                          Não|                                 Não|                                            Não|                                Não|                                                NULL|                                                            NULL|                                                                           Sim|                                                                    Não|            NULL|                                              Não|                                                 Não|                                                                                                           Não|                                                                                                       Não|                                               Não|                                            Não|                                                                                                                     Ficou rigorosamen...|             NULL|                                              Sim|                                                                  Não solicitou|        112020|                  Não|          Não|Não informado| Norte|     criança|\n",
            "|            Rondônia|               Urbana|             057|Mulher|                         Não|                         Não|                                   Não|                                             Não|                                 Não|                                Não|                          Não|                                                Não|                          Não|                                 Não|                                            Não|                                Não|                                                NULL|                                                            NULL|                                                                           Não|                                                                    Não|            NULL|                                              Não|                                                 Não|                                                                                                           Não|                                                                                                       Não|                                               Não|                                            Não|                                                                                                                     Reduziu o contato...|             NULL|                                              Não|                                                                  Não solicitou|        112020|                  Não|          Não|Não informado| Norte|      adulto|\n",
            "+--------------------+---------------------+----------------+------+----------------------------+----------------------------+--------------------------------------+------------------------------------------------+------------------------------------+-----------------------------------+-----------------------------+---------------------------------------------------+-----------------------------+------------------------------------+-----------------------------------------------+-----------------------------------+----------------------------------------------------+----------------------------------------------------------------+------------------------------------------------------------------------------+-----------------------------------------------------------------------+----------------+-------------------------------------------------+----------------------------------------------------+--------------------------------------------------------------------------------------------------------------+----------------------------------------------------------------------------------------------------------+--------------------------------------------------+-----------------------------------------------+-----------------------------------------------------------------------------------------------------------------------------------------+-----------------+-------------------------------------------------+-------------------------------------------------------------------------------+--------------+---------------------+-------------+-------------+------+------------+\n",
            "only showing top 5 rows\n",
            "\n"
          ]
        }
      ],
      "source": [
        "df.show(5)"
      ]
    },
    {
      "cell_type": "markdown",
      "metadata": {
        "id": "9Hsswe7QvJgF"
      },
      "source": [
        "# Analise dos dados / manipulação e geração de bases\n"
      ]
    },
    {
      "cell_type": "markdown",
      "metadata": {
        "id": "ywzdWiQFOs-c"
      },
      "source": [
        "## consultas para validar e ajudar na analise\n"
      ]
    },
    {
      "cell_type": "code",
      "execution_count": null,
      "metadata": {
        "id": "jyfFt6xg5Z-I"
      },
      "outputs": [],
      "source": [
        "# Registrar a view\n",
        "df.createOrReplaceTempView(\"pnad\")\n",
        "\n"
      ]
    },
    {
      "cell_type": "code",
      "execution_count": null,
      "metadata": {
        "colab": {
          "base_uri": "https://localhost:8080/"
        },
        "id": "yW5Ig3Y0tMY6",
        "outputId": "0a1104bf-2329-4baa-b410-a2a3136e4bc5"
      },
      "outputs": [
        {
          "output_type": "stream",
          "name": "stdout",
          "text": [
            "+--------------------+--------+\n",
            "|    qual_o_resultado|count(1)|\n",
            "+--------------------+--------+\n",
            "|                NULL|  983293|\n",
            "|Ainda não recebeu...|     575|\n",
            "|            Ignorado|     305|\n",
            "|        Inconclusivo|      95|\n",
            "|            Negativo|   64660|\n",
            "|            Positivo|   26622|\n",
            "+--------------------+--------+\n",
            "\n"
          ]
        }
      ],
      "source": [
        "# Exemplo: quantos registros com idade fora do range normal\n",
        "spark.sql(\"\"\"\n",
        "    SELECT  qual_o_resultado, count(*)\n",
        "    FROM pnad\n",
        "    group by qual_o_resultado\n",
        "    order by qual_o_resultado\n",
        "\"\"\").show()\n",
        "\n"
      ]
    },
    {
      "cell_type": "code",
      "execution_count": null,
      "metadata": {
        "colab": {
          "base_uri": "https://localhost:8080/"
        },
        "id": "Od9IG4w7vI4E",
        "outputId": "c9abda0f-9ee1-4feb-f7b8-a817816333af"
      },
      "outputs": [
        {
          "output_type": "stream",
          "name": "stdout",
          "text": [
            "+------------+------------+--------+\n",
            "|classe_renda|      regiao|count(1)|\n",
            "+------------+------------+--------+\n",
            "|    Classe A|Centro-Oeste|      25|\n",
            "|    Classe A|    Nordeste|      44|\n",
            "|    Classe A|       Norte|      28|\n",
            "|    Classe A|     Sudeste|     140|\n",
            "|    Classe A|         Sul|      89|\n",
            "|    Classe B|Centro-Oeste|     274|\n",
            "|    Classe B|    Nordeste|     705|\n",
            "|    Classe B|       Norte|     392|\n",
            "|    Classe B|     Sudeste|    2020|\n",
            "|    Classe B|         Sul|    1209|\n",
            "|    Classe C|Centro-Oeste|     450|\n",
            "|    Classe C|    Nordeste|    1096|\n",
            "|    Classe C|       Norte|     802|\n",
            "|    Classe C|     Sudeste|    2552|\n",
            "|    Classe C|         Sul|    1949|\n",
            "|    Classe D|Centro-Oeste|    3101|\n",
            "|    Classe D|    Nordeste|    7100|\n",
            "|    Classe D|       Norte|    4626|\n",
            "|    Classe D|     Sudeste|   16252|\n",
            "|    Classe D|         Sul|   12790|\n",
            "+------------+------------+--------+\n",
            "only showing top 20 rows\n",
            "\n"
          ]
        }
      ],
      "source": [
        "# Exemplo: quantos registros com idade fora do range normal\n",
        "spark.sql(\"\"\"\n",
        "    SELECT  classe_renda, regiao, count(*)\n",
        "    FROM pnad\n",
        "    group by classe_renda, regiao\n",
        "    order by classe_renda, regiao\n",
        "\"\"\").show()\n",
        "\n"
      ]
    },
    {
      "cell_type": "code",
      "execution_count": null,
      "metadata": {
        "id": "k8QSlDkEQrkp"
      },
      "outputs": [],
      "source": [
        "total_respostas_teve_sintomas = df.filter(F.col(\"teve_sintomas\") == \"Sim\").count()\n"
      ]
    },
    {
      "cell_type": "markdown",
      "metadata": {
        "id": "l_Q-I_RlOy-b"
      },
      "source": [
        "## 1. Sintomas clínicos da população"
      ]
    },
    {
      "cell_type": "code",
      "execution_count": null,
      "metadata": {
        "colab": {
          "base_uri": "https://localhost:8080/",
          "height": 183
        },
        "id": "AKPBhGHh_8_B",
        "outputId": "1c290d51-3db3-4f70-acae-5719d8cefc2a"
      },
      "outputs": [
        {
          "output_type": "stream",
          "name": "stdout",
          "text": [
            "+---------------------+-------------+------+\n",
            "|diagnostico_agravante|teve_sintomas|   qtd|\n",
            "+---------------------+-------------+------+\n",
            "|                  Sim|          Não|397834|\n",
            "|                  Sim|          Sim| 20106|\n",
            "|                  Não|          Não|637127|\n",
            "|                  Não|          Sim| 20483|\n",
            "+---------------------+-------------+------+\n",
            "\n"
          ]
        },
        {
          "output_type": "display_data",
          "data": {
            "text/plain": [
              "<IPython.core.display.Javascript object>"
            ],
            "application/javascript": [
              "\n",
              "    async function download(id, filename, size) {\n",
              "      if (!google.colab.kernel.accessAllowed) {\n",
              "        return;\n",
              "      }\n",
              "      const div = document.createElement('div');\n",
              "      const label = document.createElement('label');\n",
              "      label.textContent = `Downloading \"${filename}\": `;\n",
              "      div.appendChild(label);\n",
              "      const progress = document.createElement('progress');\n",
              "      progress.max = size;\n",
              "      div.appendChild(progress);\n",
              "      document.body.appendChild(div);\n",
              "\n",
              "      const buffers = [];\n",
              "      let downloaded = 0;\n",
              "\n",
              "      const channel = await google.colab.kernel.comms.open(id);\n",
              "      // Send a message to notify the kernel that we're ready.\n",
              "      channel.send({})\n",
              "\n",
              "      for await (const message of channel.messages) {\n",
              "        // Send a message to notify the kernel that we're ready.\n",
              "        channel.send({})\n",
              "        if (message.buffers) {\n",
              "          for (const buffer of message.buffers) {\n",
              "            buffers.push(buffer);\n",
              "            downloaded += buffer.byteLength;\n",
              "            progress.value = downloaded;\n",
              "          }\n",
              "        }\n",
              "      }\n",
              "      const blob = new Blob(buffers, {type: 'application/binary'});\n",
              "      const a = document.createElement('a');\n",
              "      a.href = window.URL.createObjectURL(blob);\n",
              "      a.download = filename;\n",
              "      div.appendChild(a);\n",
              "      a.click();\n",
              "      div.remove();\n",
              "    }\n",
              "  "
            ]
          },
          "metadata": {}
        },
        {
          "output_type": "display_data",
          "data": {
            "text/plain": [
              "<IPython.core.display.Javascript object>"
            ],
            "application/javascript": [
              "download(\"download_82cb46a7-d404-4e91-a9bc-2c6d6b2f4d1b\", \"df_agregado_sintomas.csv\", 105)"
            ]
          },
          "metadata": {}
        }
      ],
      "source": [
        "#Teve algum sintoma por região\n",
        "df_agregado = (\n",
        "    df.groupBy(\"diagnostico_agravante\", \"teve_sintomas\")\n",
        "      .agg(F.count(\"*\").alias(\"qtd\"))\n",
        ")\n",
        "df_agregado.show()\n",
        "#Download do arquivo para geração de gráfico em power bi\n",
        "df_agregado.toPandas().to_csv(\"df_agregado_sintomas.csv\", index=False, encoding=\"utf-8-sig\")\n",
        "\n",
        "files.download(\"df_agregado_sintomas.csv\")\n",
        "\n"
      ]
    },
    {
      "cell_type": "code",
      "execution_count": null,
      "metadata": {
        "colab": {
          "base_uri": "https://localhost:8080/",
          "height": 277
        },
        "id": "dp7eegFSPS8_",
        "outputId": "cf0e925c-f8cd-480a-90ac-85f9efcbe61e"
      },
      "outputs": [
        {
          "output_type": "stream",
          "name": "stdout",
          "text": [
            "+-----------------+------+--------------------------------+--------------------------------+------------------------------------------+----------------------------------------------------+----------------------------------------+---------------------------------------+---------------------------------+-------------------------------------------------------+---------------------------------+----------------------------------------+---------------------------------------------------+---------------------------------------+\n",
            "|     faixa_etaria|  Sexo|na_semana_passada_teve_febre_qtd|na_semana_passada_teve_tosse_qtd|na_semana_passada_teve_dor_de_garganta_qtd|na_semana_passada_teve_dificuldade_para_respirar_qtd|na_semana_passada_teve_dor_de_cabeca_qtd|na_semana_passada_teve_dor_no_peito_qtd|na_semana_passada_teve_nausea_qtd|na_semana_passada_teve_nariz_entupido_ou_escorrendo_qtd|na_semana_passada_teve_fadiga_qtd|na_semana_passada_teve_dor_nos_olhos_qtd|na_semana_passada_teve_perda_de_cheiro_ou_sabor_qtd|na_semana_passada_teve_dor_muscular_qtd|\n",
            "+-----------------+------+--------------------------------+--------------------------------+------------------------------------------+----------------------------------------------------+----------------------------------------+---------------------------------------+---------------------------------+-------------------------------------------------------+---------------------------------+----------------------------------------+---------------------------------------------------+---------------------------------------+\n",
            "|            idoso| Homem|                             471|                            1158|                                       413|                                                 282|                                    1025|                                    694|                              259|                                                    479|                             1043|                                     255|                                                630|                                   1813|\n",
            "|           adulto| Homem|                            1321|                            3668|                                      1445|                                                 758|                                    3284|                                   1317|                              741|                                                   1641|                             2031|                                     849|                                               1810|                                   3604|\n",
            "|adoslecente_jovem| Homem|                             379|                            1049|                                       476|                                                 185|                                    1059|                                    276|                              176|                                                    557|                              417|                                     228|                                                514|                                   1126|\n",
            "|          criança|Mulher|                             381|                             618|                                       289|                                                 188|                                    1028|                                    134|                              111|                                                    503|                              186|                                     199|                                                489|                                   1093|\n",
            "|            idoso|Mulher|                             585|                            1938|                                       599|                                                 447|                                    1578|                                    889|                              456|                                                    720|                             1486|                                     376|                                                931|                                   2808|\n",
            "|          criança| Homem|                             402|                             642|                                       289|                                                 188|                                    1115|                                    157|                              122|                                                    502|                              209|                                     216|                                                487|                                   1177|\n",
            "|           adulto|Mulher|                            1909|                            6436|                                      2284|                                                1484|                                    5319|                                   2163|                             1377|                                                   2547|                             3291|                                    1322|                                               2934|                                   6220|\n",
            "|adoslecente_jovem|Mulher|                             444|                            1296|                                       529|                                                 317|                                    1159|                                    349|                              235|                                                    610|                              475|                                     260|                                                625|                                   1261|\n",
            "+-----------------+------+--------------------------------+--------------------------------+------------------------------------------+----------------------------------------------------+----------------------------------------+---------------------------------------+---------------------------------+-------------------------------------------------------+---------------------------------+----------------------------------------+---------------------------------------------------+---------------------------------------+\n",
            "\n"
          ]
        },
        {
          "output_type": "display_data",
          "data": {
            "text/plain": [
              "<IPython.core.display.Javascript object>"
            ],
            "application/javascript": [
              "\n",
              "    async function download(id, filename, size) {\n",
              "      if (!google.colab.kernel.accessAllowed) {\n",
              "        return;\n",
              "      }\n",
              "      const div = document.createElement('div');\n",
              "      const label = document.createElement('label');\n",
              "      label.textContent = `Downloading \"${filename}\": `;\n",
              "      div.appendChild(label);\n",
              "      const progress = document.createElement('progress');\n",
              "      progress.max = size;\n",
              "      div.appendChild(progress);\n",
              "      document.body.appendChild(div);\n",
              "\n",
              "      const buffers = [];\n",
              "      let downloaded = 0;\n",
              "\n",
              "      const channel = await google.colab.kernel.comms.open(id);\n",
              "      // Send a message to notify the kernel that we're ready.\n",
              "      channel.send({})\n",
              "\n",
              "      for await (const message of channel.messages) {\n",
              "        // Send a message to notify the kernel that we're ready.\n",
              "        channel.send({})\n",
              "        if (message.buffers) {\n",
              "          for (const buffer of message.buffers) {\n",
              "            buffers.push(buffer);\n",
              "            downloaded += buffer.byteLength;\n",
              "            progress.value = downloaded;\n",
              "          }\n",
              "        }\n",
              "      }\n",
              "      const blob = new Blob(buffers, {type: 'application/binary'});\n",
              "      const a = document.createElement('a');\n",
              "      a.href = window.URL.createObjectURL(blob);\n",
              "      a.download = filename;\n",
              "      div.appendChild(a);\n",
              "      a.click();\n",
              "      div.remove();\n",
              "    }\n",
              "  "
            ]
          },
          "metadata": {}
        },
        {
          "output_type": "display_data",
          "data": {
            "text/plain": [
              "<IPython.core.display.Javascript object>"
            ],
            "application/javascript": [
              "download(\"download_ebfdf461-bcb8-473a-89f1-575ed183b961\", \"df_faixa_sexo.csv\", 1076)"
            ]
          },
          "metadata": {}
        }
      ],
      "source": [
        "#Faixa etaria x sexo x algum sintoma que teve\n",
        "df_faixa_sexo = df.groupBy(\"faixa_etaria\", \"Sexo\").agg(\n",
        "    *[\n",
        "        F.sum(F.when(F.col(c) == \"Sim\", 1).otherwise(0)).alias(c + \"_qtd\")\n",
        "        for c in colunas_sintomas\n",
        "    ]\n",
        ")\n",
        "\n",
        "df_faixa_sexo.show()\n",
        "\n",
        "#Download do arquivo para geração de gráfico em power bi\n",
        "df_faixa_sexo.toPandas().to_csv(\"df_faixa_sexo.csv\", index=False, encoding=\"utf-8-sig\")\n",
        "\n",
        "files.download(\"df_faixa_sexo.csv\")"
      ]
    },
    {
      "cell_type": "code",
      "execution_count": null,
      "metadata": {
        "colab": {
          "base_uri": "https://localhost:8080/",
          "height": 257
        },
        "id": "TQJcBL4uPkN_",
        "outputId": "f506a7d9-df6e-4700-878b-d45c4a64a501"
      },
      "outputs": [
        {
          "output_type": "stream",
          "name": "stdout",
          "text": [
            "+-----------------+-------------+------+\n",
            "|     faixa_etaria|teve_sintomas|   qtd|\n",
            "+-----------------+-------------+------+\n",
            "|            idoso|          Não|181573|\n",
            "|           adulto|          Não|501002|\n",
            "|adoslecente_jovem|          Não|169090|\n",
            "|          criança|          Não|183296|\n",
            "|            idoso|          Sim|  8664|\n",
            "|           adulto|          Sim| 21747|\n",
            "|          criança|          Sim|  4868|\n",
            "|adoslecente_jovem|          Sim|  5310|\n",
            "+-----------------+-------------+------+\n",
            "\n"
          ]
        },
        {
          "output_type": "display_data",
          "data": {
            "text/plain": [
              "<IPython.core.display.Javascript object>"
            ],
            "application/javascript": [
              "\n",
              "    async function download(id, filename, size) {\n",
              "      if (!google.colab.kernel.accessAllowed) {\n",
              "        return;\n",
              "      }\n",
              "      const div = document.createElement('div');\n",
              "      const label = document.createElement('label');\n",
              "      label.textContent = `Downloading \"${filename}\": `;\n",
              "      div.appendChild(label);\n",
              "      const progress = document.createElement('progress');\n",
              "      progress.max = size;\n",
              "      div.appendChild(progress);\n",
              "      document.body.appendChild(div);\n",
              "\n",
              "      const buffers = [];\n",
              "      let downloaded = 0;\n",
              "\n",
              "      const channel = await google.colab.kernel.comms.open(id);\n",
              "      // Send a message to notify the kernel that we're ready.\n",
              "      channel.send({})\n",
              "\n",
              "      for await (const message of channel.messages) {\n",
              "        // Send a message to notify the kernel that we're ready.\n",
              "        channel.send({})\n",
              "        if (message.buffers) {\n",
              "          for (const buffer of message.buffers) {\n",
              "            buffers.push(buffer);\n",
              "            downloaded += buffer.byteLength;\n",
              "            progress.value = downloaded;\n",
              "          }\n",
              "        }\n",
              "      }\n",
              "      const blob = new Blob(buffers, {type: 'application/binary'});\n",
              "      const a = document.createElement('a');\n",
              "      a.href = window.URL.createObjectURL(blob);\n",
              "      a.download = filename;\n",
              "      div.appendChild(a);\n",
              "      a.click();\n",
              "      div.remove();\n",
              "    }\n",
              "  "
            ]
          },
          "metadata": {}
        },
        {
          "output_type": "display_data",
          "data": {
            "text/plain": [
              "<IPython.core.display.Javascript object>"
            ],
            "application/javascript": [
              "download(\"download_f2268682-85da-48bf-863a-d4d46bce12fa\", \"df_faixa_teve_sintomas.csv\", 199)"
            ]
          },
          "metadata": {}
        }
      ],
      "source": [
        "#Faixa etaria  x teve sintoma sim ou não\n",
        "\n",
        "df_faixa_teve_sintomas = df.groupBy(\"faixa_etaria\",  \"teve_sintomas\").agg(\n",
        "    F.count(\"*\").alias(\"qtd\"))\n",
        "\n",
        "\n",
        "df_faixa_teve_sintomas.show()\n",
        "\n",
        "#Download do arquivo para geração de gráfico em power bi\n",
        "df_faixa_teve_sintomas.toPandas().to_csv(\"df_faixa_teve_sintomas.csv\", index=False, encoding=\"utf-8-sig\")\n",
        "\n",
        "files.download(\"df_faixa_teve_sintomas.csv\")"
      ]
    },
    {
      "cell_type": "code",
      "execution_count": null,
      "metadata": {
        "colab": {
          "base_uri": "https://localhost:8080/",
          "height": 148
        },
        "id": "qZjcTYYQPtvB",
        "outputId": "cde8db0d-ac19-4051-d3d9-d835766442a6"
      },
      "outputs": [
        {
          "output_type": "stream",
          "name": "stdout",
          "text": [
            "+--------------------------------+--------------------------------+------------------------------------------+----------------------------------------------------+----------------------------------------+---------------------------------------+---------------------------------+-------------------------------------------------------+---------------------------------+----------------------------------------+---------------------------------------------------+---------------------------------------+\n",
            "|na_semana_passada_teve_febre_pct|na_semana_passada_teve_tosse_pct|na_semana_passada_teve_dor_de_garganta_pct|na_semana_passada_teve_dificuldade_para_respirar_pct|na_semana_passada_teve_dor_de_cabeca_pct|na_semana_passada_teve_dor_no_peito_pct|na_semana_passada_teve_nausea_pct|na_semana_passada_teve_nariz_entupido_ou_escorrendo_pct|na_semana_passada_teve_fadiga_pct|na_semana_passada_teve_dor_nos_olhos_pct|na_semana_passada_teve_perda_de_cheiro_ou_sabor_pct|na_semana_passada_teve_dor_muscular_pct|\n",
            "+--------------------------------+--------------------------------+------------------------------------------+----------------------------------------------------+----------------------------------------+---------------------------------------+---------------------------------+-------------------------------------------------------+---------------------------------+----------------------------------------+---------------------------------------------------+---------------------------------------+\n",
            "|14.51624824459829               |41.40284313483949               |15.58057601813299                         |9.48286481559043                                    |38.352755672719205                      |14.730592032324028                     |8.566360343935548                |18.623272315159277                                     |22.513488876296535               |9.128088891078864                       |20.74453669713469                                  |47.06201187513858                      |\n",
            "+--------------------------------+--------------------------------+------------------------------------------+----------------------------------------------------+----------------------------------------+---------------------------------------+---------------------------------+-------------------------------------------------------+---------------------------------+----------------------------------------+---------------------------------------------------+---------------------------------------+\n",
            "\n"
          ]
        },
        {
          "output_type": "display_data",
          "data": {
            "text/plain": [
              "<IPython.core.display.Javascript object>"
            ],
            "application/javascript": [
              "\n",
              "    async function download(id, filename, size) {\n",
              "      if (!google.colab.kernel.accessAllowed) {\n",
              "        return;\n",
              "      }\n",
              "      const div = document.createElement('div');\n",
              "      const label = document.createElement('label');\n",
              "      label.textContent = `Downloading \"${filename}\": `;\n",
              "      div.appendChild(label);\n",
              "      const progress = document.createElement('progress');\n",
              "      progress.max = size;\n",
              "      div.appendChild(progress);\n",
              "      document.body.appendChild(div);\n",
              "\n",
              "      const buffers = [];\n",
              "      let downloaded = 0;\n",
              "\n",
              "      const channel = await google.colab.kernel.comms.open(id);\n",
              "      // Send a message to notify the kernel that we're ready.\n",
              "      channel.send({})\n",
              "\n",
              "      for await (const message of channel.messages) {\n",
              "        // Send a message to notify the kernel that we're ready.\n",
              "        channel.send({})\n",
              "        if (message.buffers) {\n",
              "          for (const buffer of message.buffers) {\n",
              "            buffers.push(buffer);\n",
              "            downloaded += buffer.byteLength;\n",
              "            progress.value = downloaded;\n",
              "          }\n",
              "        }\n",
              "      }\n",
              "      const blob = new Blob(buffers, {type: 'application/binary'});\n",
              "      const a = document.createElement('a');\n",
              "      a.href = window.URL.createObjectURL(blob);\n",
              "      a.download = filename;\n",
              "      div.appendChild(a);\n",
              "      a.click();\n",
              "      div.remove();\n",
              "    }\n",
              "  "
            ]
          },
          "metadata": {}
        },
        {
          "output_type": "display_data",
          "data": {
            "text/plain": [
              "<IPython.core.display.Javascript object>"
            ],
            "application/javascript": [
              "download(\"download_ee782b5f-7a92-49b2-8f91-5327ea570065\", \"df_sintomas_percentual.csv\", 722)"
            ]
          },
          "metadata": {}
        }
      ],
      "source": [
        "#Porcetagem de cada sintoma das pessoas que tiveram sintomas\n",
        "df_sintomas_percentual = df.agg(\n",
        "    *[\n",
        "        (F.sum(F.when(F.col(c) == \"Sim\", 1).otherwise(0)) / total_respostas_teve_sintomas * 100).alias(c + \"_pct\")\n",
        "        for c in colunas_sintomas\n",
        "    ]\n",
        ")\n",
        "\n",
        "df_sintomas_percentual.show(truncate=False)\n",
        "#Download do arquivo para geração de gráfico em power bi\n",
        "df_sintomas_percentual.toPandas().to_csv(\"df_sintomas_percentual.csv\", index=False, encoding=\"utf-8-sig\")\n",
        "\n",
        "files.download(\"df_sintomas_percentual.csv\")"
      ]
    },
    {
      "cell_type": "code",
      "execution_count": null,
      "metadata": {
        "colab": {
          "base_uri": "https://localhost:8080/",
          "height": 294
        },
        "id": "4GyRevFtP290",
        "outputId": "541e3fcf-0ae4-46f0-d253-43438799a87f"
      },
      "outputs": [
        {
          "output_type": "stream",
          "name": "stdout",
          "text": [
            "+------------+-------------+------+\n",
            "|      regiao|teve_sintomas|   qtd|\n",
            "+------------+-------------+------+\n",
            "|         Sul|          Não|189488|\n",
            "|Centro-Oeste|          Não| 47242|\n",
            "|    Nordeste|          Não|337116|\n",
            "|     Sudeste|          Sim| 12003|\n",
            "|Centro-Oeste|          Sim|  1584|\n",
            "|    Nordeste|          Sim| 13783|\n",
            "|     Sudeste|          Não|324030|\n",
            "|       Norte|          Sim|  5287|\n",
            "|         Sul|          Sim|  7932|\n",
            "|       Norte|          Não|137085|\n",
            "+------------+-------------+------+\n",
            "\n"
          ]
        },
        {
          "output_type": "display_data",
          "data": {
            "text/plain": [
              "<IPython.core.display.Javascript object>"
            ],
            "application/javascript": [
              "\n",
              "    async function download(id, filename, size) {\n",
              "      if (!google.colab.kernel.accessAllowed) {\n",
              "        return;\n",
              "      }\n",
              "      const div = document.createElement('div');\n",
              "      const label = document.createElement('label');\n",
              "      label.textContent = `Downloading \"${filename}\": `;\n",
              "      div.appendChild(label);\n",
              "      const progress = document.createElement('progress');\n",
              "      progress.max = size;\n",
              "      div.appendChild(progress);\n",
              "      document.body.appendChild(div);\n",
              "\n",
              "      const buffers = [];\n",
              "      let downloaded = 0;\n",
              "\n",
              "      const channel = await google.colab.kernel.comms.open(id);\n",
              "      // Send a message to notify the kernel that we're ready.\n",
              "      channel.send({})\n",
              "\n",
              "      for await (const message of channel.messages) {\n",
              "        // Send a message to notify the kernel that we're ready.\n",
              "        channel.send({})\n",
              "        if (message.buffers) {\n",
              "          for (const buffer of message.buffers) {\n",
              "            buffers.push(buffer);\n",
              "            downloaded += buffer.byteLength;\n",
              "            progress.value = downloaded;\n",
              "          }\n",
              "        }\n",
              "      }\n",
              "      const blob = new Blob(buffers, {type: 'application/binary'});\n",
              "      const a = document.createElement('a');\n",
              "      a.href = window.URL.createObjectURL(blob);\n",
              "      a.download = filename;\n",
              "      div.appendChild(a);\n",
              "      a.click();\n",
              "      div.remove();\n",
              "    }\n",
              "  "
            ]
          },
          "metadata": {}
        },
        {
          "output_type": "display_data",
          "data": {
            "text/plain": [
              "<IPython.core.display.Javascript object>"
            ],
            "application/javascript": [
              "download(\"download_0cb616cc-ba71-4102-b7ac-bc1d86c37934\", \"df_agregado_regiao_sintoma.csv\", 214)"
            ]
          },
          "metadata": {}
        }
      ],
      "source": [
        "#Teve algum sintoma por região\n",
        "df_agregado_regiao_sintoma = (\n",
        "    df.groupBy(\"regiao\", \"teve_sintomas\")\n",
        "      .agg(F.count(\"*\").alias(\"qtd\"))\n",
        ")\n",
        "df_agregado_regiao_sintoma.show()\n",
        "\n",
        "#Download do arquivo para geração de gráfico em power bi\n",
        "df_agregado_regiao_sintoma.toPandas().to_csv(\"df_agregado_regiao_sintoma.csv\", index=False, encoding=\"utf-8-sig\")\n",
        "\n",
        "files.download(\"df_agregado_regiao_sintoma.csv\")\n"
      ]
    },
    {
      "cell_type": "markdown",
      "metadata": {
        "id": "mbyzCOv3O4AG"
      },
      "source": [
        "## 2. Comportamento da população"
      ]
    },
    {
      "cell_type": "code",
      "execution_count": null,
      "metadata": {
        "colab": {
          "base_uri": "https://localhost:8080/",
          "height": 183
        },
        "id": "Rih82ukl_S0z",
        "outputId": "916af35c-1378-491d-ebfa-037ab3b3a3ea"
      },
      "outputs": [
        {
          "output_type": "stream",
          "name": "stdout",
          "text": [
            "+------------------------------------------------------------------------------+----------------------------------------------------+----+\n",
            "|tem_algum_plano_de_saude_medico_seja_particular_de_empresa_ou_de_orgao_publico|por_causa_disso_foi_a_algum_estabelecimento_de_saude| qtd|\n",
            "+------------------------------------------------------------------------------+----------------------------------------------------+----+\n",
            "|                                                                           Sim|                                                 Não|2356|\n",
            "|                                                                           Sim|                                                 Sim|1334|\n",
            "|                                                                           Não|                                                 Não|7599|\n",
            "|                                                                           Não|                                                 Sim|2825|\n",
            "+------------------------------------------------------------------------------+----------------------------------------------------+----+\n",
            "\n"
          ]
        },
        {
          "output_type": "display_data",
          "data": {
            "text/plain": [
              "<IPython.core.display.Javascript object>"
            ],
            "application/javascript": [
              "\n",
              "    async function download(id, filename, size) {\n",
              "      if (!google.colab.kernel.accessAllowed) {\n",
              "        return;\n",
              "      }\n",
              "      const div = document.createElement('div');\n",
              "      const label = document.createElement('label');\n",
              "      label.textContent = `Downloading \"${filename}\": `;\n",
              "      div.appendChild(label);\n",
              "      const progress = document.createElement('progress');\n",
              "      progress.max = size;\n",
              "      div.appendChild(progress);\n",
              "      document.body.appendChild(div);\n",
              "\n",
              "      const buffers = [];\n",
              "      let downloaded = 0;\n",
              "\n",
              "      const channel = await google.colab.kernel.comms.open(id);\n",
              "      // Send a message to notify the kernel that we're ready.\n",
              "      channel.send({})\n",
              "\n",
              "      for await (const message of channel.messages) {\n",
              "        // Send a message to notify the kernel that we're ready.\n",
              "        channel.send({})\n",
              "        if (message.buffers) {\n",
              "          for (const buffer of message.buffers) {\n",
              "            buffers.push(buffer);\n",
              "            downloaded += buffer.byteLength;\n",
              "            progress.value = downloaded;\n",
              "          }\n",
              "        }\n",
              "      }\n",
              "      const blob = new Blob(buffers, {type: 'application/binary'});\n",
              "      const a = document.createElement('a');\n",
              "      a.href = window.URL.createObjectURL(blob);\n",
              "      a.download = filename;\n",
              "      div.appendChild(a);\n",
              "      a.click();\n",
              "      div.remove();\n",
              "    }\n",
              "  "
            ]
          },
          "metadata": {}
        },
        {
          "output_type": "display_data",
          "data": {
            "text/plain": [
              "<IPython.core.display.Javascript object>"
            ],
            "application/javascript": [
              "download(\"download_7a56a62c-4cc6-4081-95ea-64c4ee093f7a\", \"df_plano_saude.csv\", 195)"
            ]
          },
          "metadata": {}
        }
      ],
      "source": [
        "\n",
        "#Tem plano de saude x foi ao medico\n",
        "df_plano_saude = (\n",
        "    df.filter(F.col(\"tem_algum_plano_de_saude_medico_seja_particular_de_empresa_ou_de_orgao_publico\").isin([\"Sim\", \"Não\"]))\n",
        "      .filter(F.col(\"por_causa_disso_foi_a_algum_estabelecimento_de_saude\").isin([\"Sim\", \"Não\"]))\n",
        "      .groupBy(\"tem_algum_plano_de_saude_medico_seja_particular_de_empresa_ou_de_orgao_publico\", \"por_causa_disso_foi_a_algum_estabelecimento_de_saude\")\n",
        "      .agg(F.count(\"*\").alias(\"qtd\"))\n",
        ")\n",
        "df_plano_saude.show()\n",
        "\n",
        "#Download do arquivo para geração de gráfico em power bi\n",
        "df_plano_saude.toPandas().to_csv(\"df_plano_saude.csv\", index=False, encoding=\"utf-8-sig\")\n",
        "\n",
        "files.download(\"df_plano_saude.csv\")\n"
      ]
    },
    {
      "cell_type": "code",
      "execution_count": null,
      "metadata": {
        "colab": {
          "base_uri": "https://localhost:8080/",
          "height": 146
        },
        "id": "YZWutcR8suKq",
        "outputId": "a33bafea-2ee8-40d2-a5e0-e580d9fecdaf"
      },
      "outputs": [
        {
          "output_type": "stream",
          "name": "stdout",
          "text": [
            "+-----------------------------------------------------------------------+-----+------------------+\n",
            "|oa_sra_fez_algum_teste_para_saber_se_estava_infectadoa_pelo_coronavirus|  qtd|   qtd_porcentagem|\n",
            "+-----------------------------------------------------------------------+-----+------------------+\n",
            "|                                                                    Não|12701|31.291729286259823|\n",
            "|                                                                    Sim| 6591| 16.23838971149819|\n",
            "+-----------------------------------------------------------------------+-----+------------------+\n",
            "\n"
          ]
        },
        {
          "output_type": "display_data",
          "data": {
            "text/plain": [
              "<IPython.core.display.Javascript object>"
            ],
            "application/javascript": [
              "\n",
              "    async function download(id, filename, size) {\n",
              "      if (!google.colab.kernel.accessAllowed) {\n",
              "        return;\n",
              "      }\n",
              "      const div = document.createElement('div');\n",
              "      const label = document.createElement('label');\n",
              "      label.textContent = `Downloading \"${filename}\": `;\n",
              "      div.appendChild(label);\n",
              "      const progress = document.createElement('progress');\n",
              "      progress.max = size;\n",
              "      div.appendChild(progress);\n",
              "      document.body.appendChild(div);\n",
              "\n",
              "      const buffers = [];\n",
              "      let downloaded = 0;\n",
              "\n",
              "      const channel = await google.colab.kernel.comms.open(id);\n",
              "      // Send a message to notify the kernel that we're ready.\n",
              "      channel.send({})\n",
              "\n",
              "      for await (const message of channel.messages) {\n",
              "        // Send a message to notify the kernel that we're ready.\n",
              "        channel.send({})\n",
              "        if (message.buffers) {\n",
              "          for (const buffer of message.buffers) {\n",
              "            buffers.push(buffer);\n",
              "            downloaded += buffer.byteLength;\n",
              "            progress.value = downloaded;\n",
              "          }\n",
              "        }\n",
              "      }\n",
              "      const blob = new Blob(buffers, {type: 'application/binary'});\n",
              "      const a = document.createElement('a');\n",
              "      a.href = window.URL.createObjectURL(blob);\n",
              "      a.download = filename;\n",
              "      div.appendChild(a);\n",
              "      a.click();\n",
              "      div.remove();\n",
              "    }\n",
              "  "
            ]
          },
          "metadata": {}
        },
        {
          "output_type": "display_data",
          "data": {
            "text/plain": [
              "<IPython.core.display.Javascript object>"
            ],
            "application/javascript": [
              "download(\"download_30136061-4719-4107-aadf-a69100a2031d\", \"df_fez_teste_sintomas.csv\", 152)"
            ]
          },
          "metadata": {}
        }
      ],
      "source": [
        "#quantidade de pessoas que tiveram sintomas e fizeram o teste\n",
        "df_fez_teste_sintomas= (\n",
        "    df.filter(F.col(\"oa_sra_fez_algum_teste_para_saber_se_estava_infectadoa_pelo_coronavirus\").isin([\"Sim\", \"Não\"]))\n",
        "      .filter(F.col(\"teve_sintomas\") == \"Sim\")\n",
        "      .groupBy(\"oa_sra_fez_algum_teste_para_saber_se_estava_infectadoa_pelo_coronavirus\")\n",
        "      .agg(F.count(\"*\").alias(\"qtd\"))\n",
        "      .withColumn(\"qtd_porcentagem\", (F.col(\"qtd\") / total_respostas_teve_sintomas * 100))\n",
        ")\n",
        "\n",
        "df_fez_teste_sintomas.show()\n",
        "#Download do arquivo para geração de gráfico em power bi\n",
        "df_fez_teste_sintomas.toPandas().to_csv(\"df_fez_teste_sintomas.csv\", index=False, encoding=\"utf-8-sig\")\n",
        "\n",
        "files.download(\"df_fez_teste_sintomas.csv\")"
      ]
    },
    {
      "cell_type": "code",
      "execution_count": null,
      "metadata": {
        "colab": {
          "base_uri": "https://localhost:8080/",
          "height": 294
        },
        "id": "UkwHLIgtRQ9a",
        "outputId": "5614b250-7221-4c50-f521-f1ef9fcaaa42"
      },
      "outputs": [
        {
          "output_type": "stream",
          "name": "stdout",
          "text": [
            "+------------+-----------------------------------------------------------------------+------+\n",
            "|      regiao|oa_sra_fez_algum_teste_para_saber_se_estava_infectadoa_pelo_coronavirus|   qtd|\n",
            "+------------+-----------------------------------------------------------------------+------+\n",
            "|         Sul|                                                                    Não| 64205|\n",
            "|Centro-Oeste|                                                                    Não| 16804|\n",
            "|    Nordeste|                                                                    Não|113757|\n",
            "|     Sudeste|                                                                    Sim| 24540|\n",
            "|Centro-Oeste|                                                                    Sim|  4416|\n",
            "|    Nordeste|                                                                    Sim| 26630|\n",
            "|     Sudeste|                                                                    Não|109619|\n",
            "|       Norte|                                                                    Sim| 12592|\n",
            "|         Sul|                                                                    Sim| 13692|\n",
            "|       Norte|                                                                    Não| 45771|\n",
            "+------------+-----------------------------------------------------------------------+------+\n",
            "\n"
          ]
        },
        {
          "output_type": "display_data",
          "data": {
            "text/plain": [
              "<IPython.core.display.Javascript object>"
            ],
            "application/javascript": [
              "\n",
              "    async function download(id, filename, size) {\n",
              "      if (!google.colab.kernel.accessAllowed) {\n",
              "        return;\n",
              "      }\n",
              "      const div = document.createElement('div');\n",
              "      const label = document.createElement('label');\n",
              "      label.textContent = `Downloading \"${filename}\": `;\n",
              "      div.appendChild(label);\n",
              "      const progress = document.createElement('progress');\n",
              "      progress.max = size;\n",
              "      div.appendChild(progress);\n",
              "      document.body.appendChild(div);\n",
              "\n",
              "      const buffers = [];\n",
              "      let downloaded = 0;\n",
              "\n",
              "      const channel = await google.colab.kernel.comms.open(id);\n",
              "      // Send a message to notify the kernel that we're ready.\n",
              "      channel.send({})\n",
              "\n",
              "      for await (const message of channel.messages) {\n",
              "        // Send a message to notify the kernel that we're ready.\n",
              "        channel.send({})\n",
              "        if (message.buffers) {\n",
              "          for (const buffer of message.buffers) {\n",
              "            buffers.push(buffer);\n",
              "            downloaded += buffer.byteLength;\n",
              "            progress.value = downloaded;\n",
              "          }\n",
              "        }\n",
              "      }\n",
              "      const blob = new Blob(buffers, {type: 'application/binary'});\n",
              "      const a = document.createElement('a');\n",
              "      a.href = window.URL.createObjectURL(blob);\n",
              "      a.download = filename;\n",
              "      div.appendChild(a);\n",
              "      a.click();\n",
              "      div.remove();\n",
              "    }\n",
              "  "
            ]
          },
          "metadata": {}
        },
        {
          "output_type": "display_data",
          "data": {
            "text/plain": [
              "<IPython.core.display.Javascript object>"
            ],
            "application/javascript": [
              "download(\"download_9b745bfa-48ae-452d-83d9-3ce413911b3f\", \"df_fez_teste.csv\", 272)"
            ]
          },
          "metadata": {}
        }
      ],
      "source": [
        "#quantidade de pessoas que fizeram teste de covid por região\n",
        "df_fez_teste = (\n",
        "    df.filter(F.col(\"oa_sra_fez_algum_teste_para_saber_se_estava_infectadoa_pelo_coronavirus\").isin([\"Sim\", \"Não\"]))\n",
        "      .groupBy(\"regiao\", \"oa_sra_fez_algum_teste_para_saber_se_estava_infectadoa_pelo_coronavirus\")\n",
        "      .agg(F.count(\"*\").alias(\"qtd\"))\n",
        ")\n",
        "df_fez_teste.show()\n",
        "\n",
        "#Download do arquivo para geração de gráfico em power bi\n",
        "df_fez_teste.toPandas().to_csv(\"df_fez_teste.csv\", index=False, encoding=\"utf-8-sig\")\n",
        "\n",
        "files.download(\"df_fez_teste.csv\")"
      ]
    },
    {
      "cell_type": "code",
      "execution_count": null,
      "metadata": {
        "colab": {
          "base_uri": "https://localhost:8080/",
          "height": 478
        },
        "id": "eYQadegMRUQZ",
        "outputId": "5fa9b50d-3bec-499c-a034-ba42459bd2a7"
      },
      "outputs": [
        {
          "output_type": "stream",
          "name": "stdout",
          "text": [
            "+------------+--------------------+-----+\n",
            "|      regiao|    qual_o_resultado|  qtd|\n",
            "+------------+--------------------+-----+\n",
            "|     Sudeste|Ainda não recebeu...|  213|\n",
            "|       Norte|Ainda não recebeu...|   34|\n",
            "|       Norte|            Negativo| 8956|\n",
            "|Centro-Oeste|            Negativo| 3533|\n",
            "|     Sudeste|            Positivo| 8369|\n",
            "|Centro-Oeste|        Inconclusivo|    3|\n",
            "|     Sudeste|        Inconclusivo|   37|\n",
            "|       Norte|            Positivo| 3670|\n",
            "|Centro-Oeste|Ainda não recebeu...|   17|\n",
            "|    Nordeste|            Positivo| 9413|\n",
            "|     Sudeste|            Negativo|20593|\n",
            "|Centro-Oeste|            Positivo| 1348|\n",
            "|         Sul|Ainda não recebeu...|  172|\n",
            "|    Nordeste|Ainda não recebeu...|  139|\n",
            "|       Norte|        Inconclusivo|   15|\n",
            "|         Sul|        Inconclusivo|   19|\n",
            "|         Sul|            Negativo|12819|\n",
            "|         Sul|            Positivo| 3822|\n",
            "|    Nordeste|        Inconclusivo|   21|\n",
            "|    Nordeste|            Negativo|18759|\n",
            "+------------+--------------------+-----+\n",
            "\n"
          ]
        },
        {
          "output_type": "display_data",
          "data": {
            "text/plain": [
              "<IPython.core.display.Javascript object>"
            ],
            "application/javascript": [
              "\n",
              "    async function download(id, filename, size) {\n",
              "      if (!google.colab.kernel.accessAllowed) {\n",
              "        return;\n",
              "      }\n",
              "      const div = document.createElement('div');\n",
              "      const label = document.createElement('label');\n",
              "      label.textContent = `Downloading \"${filename}\": `;\n",
              "      div.appendChild(label);\n",
              "      const progress = document.createElement('progress');\n",
              "      progress.max = size;\n",
              "      div.appendChild(progress);\n",
              "      document.body.appendChild(div);\n",
              "\n",
              "      const buffers = [];\n",
              "      let downloaded = 0;\n",
              "\n",
              "      const channel = await google.colab.kernel.comms.open(id);\n",
              "      // Send a message to notify the kernel that we're ready.\n",
              "      channel.send({})\n",
              "\n",
              "      for await (const message of channel.messages) {\n",
              "        // Send a message to notify the kernel that we're ready.\n",
              "        channel.send({})\n",
              "        if (message.buffers) {\n",
              "          for (const buffer of message.buffers) {\n",
              "            buffers.push(buffer);\n",
              "            downloaded += buffer.byteLength;\n",
              "            progress.value = downloaded;\n",
              "          }\n",
              "        }\n",
              "      }\n",
              "      const blob = new Blob(buffers, {type: 'application/binary'});\n",
              "      const a = document.createElement('a');\n",
              "      a.href = window.URL.createObjectURL(blob);\n",
              "      a.download = filename;\n",
              "      div.appendChild(a);\n",
              "      a.click();\n",
              "      div.remove();\n",
              "    }\n",
              "  "
            ]
          },
          "metadata": {}
        },
        {
          "output_type": "display_data",
          "data": {
            "text/plain": [
              "<IPython.core.display.Javascript object>"
            ],
            "application/javascript": [
              "download(\"download_0db77ae7-4796-4054-9c66-7824abf71495\", \"df_covid_regiao.csv\", 586)"
            ]
          },
          "metadata": {}
        }
      ],
      "source": [
        "#Resultado do teste por região SWAB\n",
        "df_covid_regiao = (\n",
        "    df.filter(F.col(\"qual_o_resultado\") != \"Ignorado\")\n",
        "      .filter(F.col(\"qual_o_resultado\") != \"NULL\")\n",
        "      .groupBy(\"regiao\", \"qual_o_resultado\" )\n",
        "      .agg(F.count(\"*\").alias(\"qtd\"))\n",
        ")\n",
        "df_covid_regiao.show()\n",
        "\n",
        "#Download do arquivo para geração de gráfico em power bi\n",
        "df_covid_regiao.toPandas().to_csv(\"df_covid_regiao.csv\", index=False, encoding=\"utf-8-sig\")\n",
        "\n",
        "files.download(\"df_covid_regiao.csv\")"
      ]
    },
    {
      "cell_type": "code",
      "execution_count": null,
      "metadata": {
        "colab": {
          "base_uri": "https://localhost:8080/",
          "height": 146
        },
        "id": "kWxxwZXlQlrI",
        "outputId": "1b9eef7f-3336-4e0b-cb91-6040af39c51c"
      },
      "outputs": [
        {
          "output_type": "stream",
          "name": "stdout",
          "text": [
            "+----------------------------------------------------+-----+------------------+\n",
            "|por_causa_disso_foi_a_algum_estabelecimento_de_saude|  qtd|   qtd_porcentagem|\n",
            "+----------------------------------------------------+-----+------------------+\n",
            "|                                                 Não|17163|42.284855502722415|\n",
            "|                                                 Sim|16305| 40.17098228584099|\n",
            "+----------------------------------------------------+-----+------------------+\n",
            "\n"
          ]
        },
        {
          "output_type": "display_data",
          "data": {
            "text/plain": [
              "<IPython.core.display.Javascript object>"
            ],
            "application/javascript": [
              "\n",
              "    async function download(id, filename, size) {\n",
              "      if (!google.colab.kernel.accessAllowed) {\n",
              "        return;\n",
              "      }\n",
              "      const div = document.createElement('div');\n",
              "      const label = document.createElement('label');\n",
              "      label.textContent = `Downloading \"${filename}\": `;\n",
              "      div.appendChild(label);\n",
              "      const progress = document.createElement('progress');\n",
              "      progress.max = size;\n",
              "      div.appendChild(progress);\n",
              "      document.body.appendChild(div);\n",
              "\n",
              "      const buffers = [];\n",
              "      let downloaded = 0;\n",
              "\n",
              "      const channel = await google.colab.kernel.comms.open(id);\n",
              "      // Send a message to notify the kernel that we're ready.\n",
              "      channel.send({})\n",
              "\n",
              "      for await (const message of channel.messages) {\n",
              "        // Send a message to notify the kernel that we're ready.\n",
              "        channel.send({})\n",
              "        if (message.buffers) {\n",
              "          for (const buffer of message.buffers) {\n",
              "            buffers.push(buffer);\n",
              "            downloaded += buffer.byteLength;\n",
              "            progress.value = downloaded;\n",
              "          }\n",
              "        }\n",
              "      }\n",
              "      const blob = new Blob(buffers, {type: 'application/binary'});\n",
              "      const a = document.createElement('a');\n",
              "      a.href = window.URL.createObjectURL(blob);\n",
              "      a.download = filename;\n",
              "      div.appendChild(a);\n",
              "      a.click();\n",
              "      div.remove();\n",
              "    }\n",
              "  "
            ]
          },
          "metadata": {}
        },
        {
          "output_type": "display_data",
          "data": {
            "text/plain": [
              "<IPython.core.display.Javascript object>"
            ],
            "application/javascript": [
              "download(\"download_2be1147e-1625-472a-8d6a-c78e0dfafd9c\", \"df_foi_ao_medico.csv\", 134)"
            ]
          },
          "metadata": {}
        }
      ],
      "source": [
        "#quantidade de pessoas que tiveram sintomas se procuraram medico ou não\n",
        "\n",
        "df_foi_ao_medico = (\n",
        "    df.filter(F.col(\"por_causa_disso_foi_a_algum_estabelecimento_de_saude\").isin([\"Sim\", \"Não\"]))\n",
        "      .filter(F.col(\"teve_sintomas\") == \"Sim\")\n",
        "      .groupBy(\"por_causa_disso_foi_a_algum_estabelecimento_de_saude\")\n",
        "      .agg(F.count(\"*\").alias(\"qtd\"))\n",
        "      .withColumn(\"qtd_porcentagem\", (F.col(\"qtd\") / total_respostas_teve_sintomas * 100))\n",
        ")\n",
        "\n",
        "df_foi_ao_medico.show()\n",
        "\n",
        "#Download do arquivo para geração de gráfico em power bi\n",
        "df_foi_ao_medico.toPandas().to_csv(\"df_foi_ao_medico.csv\", index=False, encoding=\"utf-8-sig\")\n",
        "\n",
        "files.download(\"df_foi_ao_medico.csv\")\n"
      ]
    },
    {
      "cell_type": "code",
      "execution_count": null,
      "metadata": {
        "colab": {
          "base_uri": "https://localhost:8080/",
          "height": 146
        },
        "id": "MSxT0CbsQiW9",
        "outputId": "1c269b65-0b42-4a49-87fd-ca02f9980628"
      },
      "outputs": [
        {
          "output_type": "stream",
          "name": "stdout",
          "text": [
            "+----------------------------------------------------------------+-----+-----------------+\n",
            "|providencia_tomada_para_recuperar_dos_sintomas_foi_ficar_em_casa|  qtd|  qtd_porcentagem|\n",
            "+----------------------------------------------------------------+-----+-----------------+\n",
            "|                                                             Não|20564|50.66397299761019|\n",
            "|                                                             Sim| 9159|22.56522703195447|\n",
            "+----------------------------------------------------------------+-----+-----------------+\n",
            "\n"
          ]
        },
        {
          "output_type": "display_data",
          "data": {
            "text/plain": [
              "<IPython.core.display.Javascript object>"
            ],
            "application/javascript": [
              "\n",
              "    async function download(id, filename, size) {\n",
              "      if (!google.colab.kernel.accessAllowed) {\n",
              "        return;\n",
              "      }\n",
              "      const div = document.createElement('div');\n",
              "      const label = document.createElement('label');\n",
              "      label.textContent = `Downloading \"${filename}\": `;\n",
              "      div.appendChild(label);\n",
              "      const progress = document.createElement('progress');\n",
              "      progress.max = size;\n",
              "      div.appendChild(progress);\n",
              "      document.body.appendChild(div);\n",
              "\n",
              "      const buffers = [];\n",
              "      let downloaded = 0;\n",
              "\n",
              "      const channel = await google.colab.kernel.comms.open(id);\n",
              "      // Send a message to notify the kernel that we're ready.\n",
              "      channel.send({})\n",
              "\n",
              "      for await (const message of channel.messages) {\n",
              "        // Send a message to notify the kernel that we're ready.\n",
              "        channel.send({})\n",
              "        if (message.buffers) {\n",
              "          for (const buffer of message.buffers) {\n",
              "            buffers.push(buffer);\n",
              "            downloaded += buffer.byteLength;\n",
              "            progress.value = downloaded;\n",
              "          }\n",
              "        }\n",
              "      }\n",
              "      const blob = new Blob(buffers, {type: 'application/binary'});\n",
              "      const a = document.createElement('a');\n",
              "      a.href = window.URL.createObjectURL(blob);\n",
              "      a.download = filename;\n",
              "      div.appendChild(a);\n",
              "      a.click();\n",
              "      div.remove();\n",
              "    }\n",
              "  "
            ]
          },
          "metadata": {}
        },
        {
          "output_type": "display_data",
          "data": {
            "text/plain": [
              "<IPython.core.display.Javascript object>"
            ],
            "application/javascript": [
              "download(\"download_ebed92f7-8859-425d-9a0a-e2fe62ca8b64\", \"df_ficou_em_casa.csv\", 144)"
            ]
          },
          "metadata": {}
        }
      ],
      "source": [
        "#quantidade de pessoas que tiveram sintomas e ficaram em casa\n",
        "\n",
        "df_ficou_em_casa= (\n",
        "    df.filter(F.col(\"providencia_tomada_para_recuperar_dos_sintomas_foi_ficar_em_casa\").isin([\"Sim\", \"Não\"]))\n",
        "      .filter(F.col(\"teve_sintomas\") == \"Sim\")\n",
        "      .groupBy(\"providencia_tomada_para_recuperar_dos_sintomas_foi_ficar_em_casa\")\n",
        "      .agg(F.count(\"*\").alias(\"qtd\"))\n",
        "      .withColumn(\"qtd_porcentagem\", (F.col(\"qtd\") / total_respostas_teve_sintomas * 100))\n",
        ")\n",
        "\n",
        "df_ficou_em_casa.show()\n",
        "\n",
        "#Download do arquivo para geração de gráfico em power bi\n",
        "df_ficou_em_casa.toPandas().to_csv(\"df_ficou_em_casa.csv\", index=False, encoding=\"utf-8-sig\")\n",
        "\n",
        "files.download(\"df_ficou_em_casa.csv\")"
      ]
    },
    {
      "cell_type": "code",
      "execution_count": null,
      "metadata": {
        "id": "nAduIj5YQPWp",
        "colab": {
          "base_uri": "https://localhost:8080/",
          "height": 202
        },
        "outputId": "4aeaadf5-36b6-46e6-e2c1-0c6a8aaa0caa"
      },
      "outputs": [
        {
          "output_type": "stream",
          "name": "stdout",
          "text": [
            "+------------+----+\n",
            "|      regiao| qtd|\n",
            "+------------+----+\n",
            "|    Nordeste|4221|\n",
            "|         Sul|2497|\n",
            "|     Sudeste|4034|\n",
            "|Centro-Oeste| 457|\n",
            "|       Norte|1492|\n",
            "+------------+----+\n",
            "\n"
          ]
        },
        {
          "output_type": "display_data",
          "data": {
            "text/plain": [
              "<IPython.core.display.Javascript object>"
            ],
            "application/javascript": [
              "\n",
              "    async function download(id, filename, size) {\n",
              "      if (!google.colab.kernel.accessAllowed) {\n",
              "        return;\n",
              "      }\n",
              "      const div = document.createElement('div');\n",
              "      const label = document.createElement('label');\n",
              "      label.textContent = `Downloading \"${filename}\": `;\n",
              "      div.appendChild(label);\n",
              "      const progress = document.createElement('progress');\n",
              "      progress.max = size;\n",
              "      div.appendChild(progress);\n",
              "      document.body.appendChild(div);\n",
              "\n",
              "      const buffers = [];\n",
              "      let downloaded = 0;\n",
              "\n",
              "      const channel = await google.colab.kernel.comms.open(id);\n",
              "      // Send a message to notify the kernel that we're ready.\n",
              "      channel.send({})\n",
              "\n",
              "      for await (const message of channel.messages) {\n",
              "        // Send a message to notify the kernel that we're ready.\n",
              "        channel.send({})\n",
              "        if (message.buffers) {\n",
              "          for (const buffer of message.buffers) {\n",
              "            buffers.push(buffer);\n",
              "            downloaded += buffer.byteLength;\n",
              "            progress.value = downloaded;\n",
              "          }\n",
              "        }\n",
              "      }\n",
              "      const blob = new Blob(buffers, {type: 'application/binary'});\n",
              "      const a = document.createElement('a');\n",
              "      a.href = window.URL.createObjectURL(blob);\n",
              "      a.download = filename;\n",
              "      div.appendChild(a);\n",
              "      a.click();\n",
              "      div.remove();\n",
              "    }\n",
              "  "
            ]
          },
          "metadata": {}
        },
        {
          "output_type": "display_data",
          "data": {
            "text/plain": [
              "<IPython.core.display.Javascript object>"
            ],
            "application/javascript": [
              "download(\"download_e20eef61-080d-4871-976e-16ad2d0eb51d\", \"df_nao_fez_teste_regiao.csv\", 78)"
            ]
          },
          "metadata": {}
        }
      ],
      "source": [
        "#quantidade de pessoas que tiveram sintomas e não fizeram o teste divido por região\n",
        "\n",
        "df_nao_fez_teste_regiao= (\n",
        "    df.filter(F.col(\"oa_sra_fez_algum_teste_para_saber_se_estava_infectadoa_pelo_coronavirus\") == \"Não\")\n",
        "      .filter(F.col(\"teve_sintomas\") == \"Sim\")\n",
        "      .groupBy(\"regiao\")\n",
        "      .agg(F.count(\"*\").alias(\"qtd\"))\n",
        "\n",
        ")\n",
        "\n",
        "df_nao_fez_teste_regiao.show()\n",
        "\n",
        "#Download do arquivo para geração de gráfico em power bi\n",
        "df_nao_fez_teste_regiao.toPandas().to_csv(\"df_nao_fez_teste_regiao.csv\", index=False, encoding=\"utf-8-sig\")\n",
        "\n",
        "files.download(\"df_nao_fez_teste_regiao.csv\")"
      ]
    },
    {
      "cell_type": "code",
      "execution_count": null,
      "metadata": {
        "id": "t91fLqGgQMzB",
        "colab": {
          "base_uri": "https://localhost:8080/",
          "height": 294
        },
        "outputId": "c3e20229-f3ef-453a-f6f0-8fa7dafa001e"
      },
      "outputs": [
        {
          "output_type": "stream",
          "name": "stdout",
          "text": [
            "+-----------------------------------------------------------------------------------------------------------------------------------------+-----+\n",
            "|qual_foi_o_resultado_do_teste_na_semana_passada_devido_a_pandemia_do_coronavirus_em_que_medida_oa_sra_restringiu_o_contato_com_as_pessoas|  qtd|\n",
            "+-----------------------------------------------------------------------------------------------------------------------------------------+-----+\n",
            "|                                                                                                                     Ficou rigorosamen...| 2477|\n",
            "|                                                                                                                                 Ignorado|   12|\n",
            "|                                                                                                                     Reduziu o contato...| 5072|\n",
            "|                                                                                                                     Ficou em casa e s...| 5268|\n",
            "|                                                                                                                     Não fez restrição...| 1797|\n",
            "|                                                                                                                                        7|   35|\n",
            "|                                                                                                                                        8|   97|\n",
            "|                                                                                                                                     NULL|25634|\n",
            "|                                                                                                                                        5|   16|\n",
            "|                                                                                                                                        6|  181|\n",
            "+-----------------------------------------------------------------------------------------------------------------------------------------+-----+\n",
            "\n"
          ]
        },
        {
          "output_type": "display_data",
          "data": {
            "text/plain": [
              "<IPython.core.display.Javascript object>"
            ],
            "application/javascript": [
              "\n",
              "    async function download(id, filename, size) {\n",
              "      if (!google.colab.kernel.accessAllowed) {\n",
              "        return;\n",
              "      }\n",
              "      const div = document.createElement('div');\n",
              "      const label = document.createElement('label');\n",
              "      label.textContent = `Downloading \"${filename}\": `;\n",
              "      div.appendChild(label);\n",
              "      const progress = document.createElement('progress');\n",
              "      progress.max = size;\n",
              "      div.appendChild(progress);\n",
              "      document.body.appendChild(div);\n",
              "\n",
              "      const buffers = [];\n",
              "      let downloaded = 0;\n",
              "\n",
              "      const channel = await google.colab.kernel.comms.open(id);\n",
              "      // Send a message to notify the kernel that we're ready.\n",
              "      channel.send({})\n",
              "\n",
              "      for await (const message of channel.messages) {\n",
              "        // Send a message to notify the kernel that we're ready.\n",
              "        channel.send({})\n",
              "        if (message.buffers) {\n",
              "          for (const buffer of message.buffers) {\n",
              "            buffers.push(buffer);\n",
              "            downloaded += buffer.byteLength;\n",
              "            progress.value = downloaded;\n",
              "          }\n",
              "        }\n",
              "      }\n",
              "      const blob = new Blob(buffers, {type: 'application/binary'});\n",
              "      const a = document.createElement('a');\n",
              "      a.href = window.URL.createObjectURL(blob);\n",
              "      a.download = filename;\n",
              "      div.appendChild(a);\n",
              "      a.click();\n",
              "      div.remove();\n",
              "    }\n",
              "  "
            ]
          },
          "metadata": {}
        },
        {
          "output_type": "display_data",
          "data": {
            "text/plain": [
              "<IPython.core.display.Javascript object>"
            ],
            "application/javascript": [
              "download(\"download_7d943d4b-bb59-42de-a6c3-59c2f8c048db\", \"df_teve_sintomas_medida_restricao.csv\", 486)"
            ]
          },
          "metadata": {}
        }
      ],
      "source": [
        "#quantidade de pessoas que tiveram sintomas o que fizeram?\n",
        "\n",
        "df_teve_sintomas_medida_restricao= (\n",
        "    df.filter(F.col(\"teve_sintomas\") == \"Sim\")\n",
        "      .groupBy(\"qual_foi_o_resultado_do_teste_na_semana_passada_devido_a_pandemia_do_coronavirus_em_que_medida_oa_sra_restringiu_o_contato_com_as_pessoas\")\n",
        "      .agg(F.count(\"*\").alias(\"qtd\"))\n",
        "\n",
        ")\n",
        "\n",
        "df_teve_sintomas_medida_restricao.show()\n",
        "\n",
        "#Download do arquivo para geração de gráfico em power bi\n",
        "df_teve_sintomas_medida_restricao.toPandas().to_csv(\"df_teve_sintomas_medida_restricao.csv\", index=False, encoding=\"utf-8-sig\")\n",
        "\n",
        "files.download(\"df_teve_sintomas_medida_restricao.csv\")"
      ]
    },
    {
      "cell_type": "code",
      "execution_count": null,
      "metadata": {
        "colab": {
          "base_uri": "https://localhost:8080/",
          "height": 497
        },
        "id": "SxDXWsy6Nt-B",
        "outputId": "d56c0a78-1b31-4e53-d1fa-fec552b89b7b"
      },
      "outputs": [
        {
          "output_type": "stream",
          "name": "stdout",
          "text": [
            "+-----------------------------------------------------------------------------------------------------------------------------------------+------------+----+\n",
            "|qual_foi_o_resultado_do_teste_na_semana_passada_devido_a_pandemia_do_coronavirus_em_que_medida_oa_sra_restringiu_o_contato_com_as_pessoas|      regiao| qtd|\n",
            "+-----------------------------------------------------------------------------------------------------------------------------------------+------------+----+\n",
            "|                                                                                                                     Ficou rigorosamen...|         Sul| 592|\n",
            "|                                                                                                                     Reduziu o contato...|    Nordeste|1565|\n",
            "|                                                                                                                     Ficou em casa e s...|         Sul| 929|\n",
            "|                                                                                                                     Reduziu o contato...|         Sul|1073|\n",
            "|                                                                                                                     Ficou rigorosamen...|    Nordeste| 734|\n",
            "|                                                                                                                     Ficou rigorosamen...|     Sudeste| 799|\n",
            "|                                                                                                                     Reduziu o contato...|Centro-Oeste| 230|\n",
            "|                                                                                                                     Ficou em casa e s...|       Norte| 608|\n",
            "|                                                                                                                     Ficou em casa e s...|     Sudeste|1717|\n",
            "|                                                                                                                     Reduziu o contato...|       Norte| 636|\n",
            "|                                                                                                                     Não fez restrição...|     Sudeste| 539|\n",
            "|                                                                                                                     Ficou rigorosamen...|       Norte| 257|\n",
            "|                                                                                                                     Ficou rigorosamen...|Centro-Oeste|  95|\n",
            "|                                                                                                                     Não fez restrição...|       Norte| 296|\n",
            "|                                                                                                                     Não fez restrição...|         Sul| 304|\n",
            "|                                                                                                                     Ficou em casa e s...|    Nordeste|1845|\n",
            "|                                                                                                                     Não fez restrição...|Centro-Oeste|  79|\n",
            "|                                                                                                                     Reduziu o contato...|     Sudeste|1568|\n",
            "|                                                                                                                     Não fez restrição...|    Nordeste| 579|\n",
            "|                                                                                                                     Ficou em casa e s...|Centro-Oeste| 169|\n",
            "+-----------------------------------------------------------------------------------------------------------------------------------------+------------+----+\n",
            "only showing top 20 rows\n",
            "\n"
          ]
        },
        {
          "output_type": "display_data",
          "data": {
            "text/plain": [
              "<IPython.core.display.Javascript object>"
            ],
            "application/javascript": [
              "\n",
              "    async function download(id, filename, size) {\n",
              "      if (!google.colab.kernel.accessAllowed) {\n",
              "        return;\n",
              "      }\n",
              "      const div = document.createElement('div');\n",
              "      const label = document.createElement('label');\n",
              "      label.textContent = `Downloading \"${filename}\": `;\n",
              "      div.appendChild(label);\n",
              "      const progress = document.createElement('progress');\n",
              "      progress.max = size;\n",
              "      div.appendChild(progress);\n",
              "      document.body.appendChild(div);\n",
              "\n",
              "      const buffers = [];\n",
              "      let downloaded = 0;\n",
              "\n",
              "      const channel = await google.colab.kernel.comms.open(id);\n",
              "      // Send a message to notify the kernel that we're ready.\n",
              "      channel.send({})\n",
              "\n",
              "      for await (const message of channel.messages) {\n",
              "        // Send a message to notify the kernel that we're ready.\n",
              "        channel.send({})\n",
              "        if (message.buffers) {\n",
              "          for (const buffer of message.buffers) {\n",
              "            buffers.push(buffer);\n",
              "            downloaded += buffer.byteLength;\n",
              "            progress.value = downloaded;\n",
              "          }\n",
              "        }\n",
              "      }\n",
              "      const blob = new Blob(buffers, {type: 'application/binary'});\n",
              "      const a = document.createElement('a');\n",
              "      a.href = window.URL.createObjectURL(blob);\n",
              "      a.download = filename;\n",
              "      div.appendChild(a);\n",
              "      a.click();\n",
              "      div.remove();\n",
              "    }\n",
              "  "
            ]
          },
          "metadata": {}
        },
        {
          "output_type": "display_data",
          "data": {
            "text/plain": [
              "<IPython.core.display.Javascript object>"
            ],
            "application/javascript": [
              "download(\"download_a20fc6d3-3e2f-4ac7-959c-efaff8f3eb3f\", \"df_teve_sintomas_medida_restricao_regiao.csv\", 2032)"
            ]
          },
          "metadata": {}
        }
      ],
      "source": [
        "#quantidade de pessoas que tiveram sintomas o que fizeram por regiao?\n",
        "\n",
        "df_teve_sintomas_medida_restricao_regiao= (\n",
        "    df.filter(F.col(\"teve_sintomas\") == \"Sim\")\n",
        "      .filter(F.col(\"qual_foi_o_resultado_do_teste_na_semana_passada_devido_a_pandemia_do_coronavirus_em_que_medida_oa_sra_restringiu_o_contato_com_as_pessoas\") != \"Ignorado\")\n",
        "      .groupBy(\"qual_foi_o_resultado_do_teste_na_semana_passada_devido_a_pandemia_do_coronavirus_em_que_medida_oa_sra_restringiu_o_contato_com_as_pessoas\", \"regiao\")\n",
        "      .agg(F.count(\"*\").alias(\"qtd\"))\n",
        "\n",
        ")\n",
        "\n",
        "df_teve_sintomas_medida_restricao_regiao.show()\n",
        "\n",
        "\n",
        "#Download do arquivo para geração de gráfico em power bi\n",
        "df_teve_sintomas_medida_restricao_regiao.toPandas().to_csv(\"df_teve_sintomas_medida_restricao_regiao.csv\", index=False, encoding=\"utf-8-sig\")\n",
        "\n",
        "files.download(\"df_teve_sintomas_medida_restricao_regiao.csv\")\n"
      ]
    },
    {
      "cell_type": "markdown",
      "metadata": {
        "id": "Sc0iLtuqO7T9"
      },
      "source": [
        "## 3. Características econômicas da sociedade"
      ]
    },
    {
      "cell_type": "code",
      "execution_count": null,
      "metadata": {
        "colab": {
          "base_uri": "https://localhost:8080/",
          "height": 146
        },
        "id": "6v8s2XfqP0WU",
        "outputId": "28eb6a1b-a0d6-42d8-f1ab-ec8c1989f07e"
      },
      "outputs": [
        {
          "output_type": "stream",
          "name": "stdout",
          "text": [
            "+---------------------+------+\n",
            "|situacao_do_domicilio|   qtd|\n",
            "+---------------------+------+\n",
            "|               Urbana|812722|\n",
            "|                Rural|262828|\n",
            "+---------------------+------+\n",
            "\n"
          ]
        },
        {
          "output_type": "display_data",
          "data": {
            "text/plain": [
              "<IPython.core.display.Javascript object>"
            ],
            "application/javascript": [
              "\n",
              "    async function download(id, filename, size) {\n",
              "      if (!google.colab.kernel.accessAllowed) {\n",
              "        return;\n",
              "      }\n",
              "      const div = document.createElement('div');\n",
              "      const label = document.createElement('label');\n",
              "      label.textContent = `Downloading \"${filename}\": `;\n",
              "      div.appendChild(label);\n",
              "      const progress = document.createElement('progress');\n",
              "      progress.max = size;\n",
              "      div.appendChild(progress);\n",
              "      document.body.appendChild(div);\n",
              "\n",
              "      const buffers = [];\n",
              "      let downloaded = 0;\n",
              "\n",
              "      const channel = await google.colab.kernel.comms.open(id);\n",
              "      // Send a message to notify the kernel that we're ready.\n",
              "      channel.send({})\n",
              "\n",
              "      for await (const message of channel.messages) {\n",
              "        // Send a message to notify the kernel that we're ready.\n",
              "        channel.send({})\n",
              "        if (message.buffers) {\n",
              "          for (const buffer of message.buffers) {\n",
              "            buffers.push(buffer);\n",
              "            downloaded += buffer.byteLength;\n",
              "            progress.value = downloaded;\n",
              "          }\n",
              "        }\n",
              "      }\n",
              "      const blob = new Blob(buffers, {type: 'application/binary'});\n",
              "      const a = document.createElement('a');\n",
              "      a.href = window.URL.createObjectURL(blob);\n",
              "      a.download = filename;\n",
              "      div.appendChild(a);\n",
              "      a.click();\n",
              "      div.remove();\n",
              "    }\n",
              "  "
            ]
          },
          "metadata": {}
        },
        {
          "output_type": "display_data",
          "data": {
            "text/plain": [
              "<IPython.core.display.Javascript object>"
            ],
            "application/javascript": [
              "download(\"download_94db7520-481f-44e6-ab60-bf5913446999\", \"df_situacao_do_domicilio.csv\", 56)"
            ]
          },
          "metadata": {}
        }
      ],
      "source": [
        "#quantidade de pessoas urbana x rural\n",
        "df_situacao_do_domicilio = (\n",
        "    df.groupBy(\"situacao_do_domicilio\")\n",
        "      .agg(F.count(\"*\").alias(\"qtd\"))\n",
        ")\n",
        "df_situacao_do_domicilio.show()\n",
        "\n",
        "#Download do arquivo para geração de gráfico em power bi\n",
        "df_situacao_do_domicilio.toPandas().to_csv(\"df_situacao_do_domicilio.csv\", index=False, encoding=\"utf-8-sig\")\n",
        "\n",
        "files.download(\"df_situacao_do_domicilio.csv\")"
      ]
    },
    {
      "cell_type": "code",
      "execution_count": null,
      "metadata": {
        "colab": {
          "base_uri": "https://localhost:8080/",
          "height": 294
        },
        "id": "nisY-jYqQDft",
        "outputId": "0bae49a6-1a2b-47f8-8b56-81ce5f2a19c2"
      },
      "outputs": [
        {
          "output_type": "stream",
          "name": "stdout",
          "text": [
            "+------------+-----------------------------------------------------------------------+-----+\n",
            "|classe_renda|oa_sra_fez_algum_teste_para_saber_se_estava_infectadoa_pelo_coronavirus|  qtd|\n",
            "+------------+-----------------------------------------------------------------------+-----+\n",
            "|    Classe E|                                                                    Sim|11976|\n",
            "|    Classe C|                                                                    Sim| 2131|\n",
            "|    Classe B|                                                                    Não| 2732|\n",
            "|    Classe B|                                                                    Sim| 1829|\n",
            "|    Classe D|                                                                    Não|33577|\n",
            "|    Classe C|                                                                    Não| 4663|\n",
            "|    Classe A|                                                                    Não|  166|\n",
            "|    Classe D|                                                                    Sim|10031|\n",
            "|    Classe E|                                                                    Não|64212|\n",
            "|    Classe A|                                                                    Sim|  160|\n",
            "+------------+-----------------------------------------------------------------------+-----+\n",
            "\n"
          ]
        },
        {
          "output_type": "display_data",
          "data": {
            "text/plain": [
              "<IPython.core.display.Javascript object>"
            ],
            "application/javascript": [
              "\n",
              "    async function download(id, filename, size) {\n",
              "      if (!google.colab.kernel.accessAllowed) {\n",
              "        return;\n",
              "      }\n",
              "      const div = document.createElement('div');\n",
              "      const label = document.createElement('label');\n",
              "      label.textContent = `Downloading \"${filename}\": `;\n",
              "      div.appendChild(label);\n",
              "      const progress = document.createElement('progress');\n",
              "      progress.max = size;\n",
              "      div.appendChild(progress);\n",
              "      document.body.appendChild(div);\n",
              "\n",
              "      const buffers = [];\n",
              "      let downloaded = 0;\n",
              "\n",
              "      const channel = await google.colab.kernel.comms.open(id);\n",
              "      // Send a message to notify the kernel that we're ready.\n",
              "      channel.send({})\n",
              "\n",
              "      for await (const message of channel.messages) {\n",
              "        // Send a message to notify the kernel that we're ready.\n",
              "        channel.send({})\n",
              "        if (message.buffers) {\n",
              "          for (const buffer of message.buffers) {\n",
              "            buffers.push(buffer);\n",
              "            downloaded += buffer.byteLength;\n",
              "            progress.value = downloaded;\n",
              "          }\n",
              "        }\n",
              "      }\n",
              "      const blob = new Blob(buffers, {type: 'application/binary'});\n",
              "      const a = document.createElement('a');\n",
              "      a.href = window.URL.createObjectURL(blob);\n",
              "      a.download = filename;\n",
              "      div.appendChild(a);\n",
              "      a.click();\n",
              "      div.remove();\n",
              "    }\n",
              "  "
            ]
          },
          "metadata": {}
        },
        {
          "output_type": "display_data",
          "data": {
            "text/plain": [
              "<IPython.core.display.Javascript object>"
            ],
            "application/javascript": [
              "download(\"download_6f5a120f-a6b9-4a60-8740-23a9f5546a6d\", \"df_fez_teste_classe_renda.csv\", 279)"
            ]
          },
          "metadata": {}
        }
      ],
      "source": [
        "#quantidade de pessoas que fizeram teste de covid por classe de renda\n",
        "\n",
        "df_fez_teste_classe_renda = (\n",
        "    df.filter(F.col(\"oa_sra_fez_algum_teste_para_saber_se_estava_infectadoa_pelo_coronavirus\").isin([\"Sim\", \"Não\"]))\n",
        "      .filter(F.col(\"classe_renda\") != \"Não informado\")\n",
        "      .groupBy(\"classe_renda\", \"oa_sra_fez_algum_teste_para_saber_se_estava_infectadoa_pelo_coronavirus\")\n",
        "      .agg(F.count(\"*\").alias(\"qtd\"))\n",
        ")\n",
        "\n",
        "df_fez_teste_classe_renda.show()\n",
        "\n",
        "#Download do arquivo para geração de gráfico em power bi\n",
        "df_fez_teste_classe_renda.toPandas().to_csv(\"df_fez_teste_classe_renda.csv\", index=False, encoding=\"utf-8-sig\")\n",
        "\n",
        "files.download(\"df_fez_teste_classe_renda.csv\")"
      ]
    },
    {
      "cell_type": "code",
      "execution_count": null,
      "metadata": {
        "colab": {
          "base_uri": "https://localhost:8080/",
          "height": 165
        },
        "id": "q7w4mKYPRfpG",
        "outputId": "bef68874-4c32-44fd-d542-03931d6679fd"
      },
      "outputs": [
        {
          "output_type": "stream",
          "name": "stdout",
          "text": [
            "+-------------------------------------------------------------------------------+------+\n",
            "|durante_o_periodo_da_pandemia_alguem_deste_domicilio_solicitou_algum_emprestimo|   qtd|\n",
            "+-------------------------------------------------------------------------------+------+\n",
            "|                                                           Sim, e pelo menos...| 29574|\n",
            "|                                                           Sim, mas nenhum m...| 53674|\n",
            "|                                                                  Não solicitou|325037|\n",
            "+-------------------------------------------------------------------------------+------+\n",
            "\n"
          ]
        },
        {
          "output_type": "display_data",
          "data": {
            "text/plain": [
              "<IPython.core.display.Javascript object>"
            ],
            "application/javascript": [
              "\n",
              "    async function download(id, filename, size) {\n",
              "      if (!google.colab.kernel.accessAllowed) {\n",
              "        return;\n",
              "      }\n",
              "      const div = document.createElement('div');\n",
              "      const label = document.createElement('label');\n",
              "      label.textContent = `Downloading \"${filename}\": `;\n",
              "      div.appendChild(label);\n",
              "      const progress = document.createElement('progress');\n",
              "      progress.max = size;\n",
              "      div.appendChild(progress);\n",
              "      document.body.appendChild(div);\n",
              "\n",
              "      const buffers = [];\n",
              "      let downloaded = 0;\n",
              "\n",
              "      const channel = await google.colab.kernel.comms.open(id);\n",
              "      // Send a message to notify the kernel that we're ready.\n",
              "      channel.send({})\n",
              "\n",
              "      for await (const message of channel.messages) {\n",
              "        // Send a message to notify the kernel that we're ready.\n",
              "        channel.send({})\n",
              "        if (message.buffers) {\n",
              "          for (const buffer of message.buffers) {\n",
              "            buffers.push(buffer);\n",
              "            downloaded += buffer.byteLength;\n",
              "            progress.value = downloaded;\n",
              "          }\n",
              "        }\n",
              "      }\n",
              "      const blob = new Blob(buffers, {type: 'application/binary'});\n",
              "      const a = document.createElement('a');\n",
              "      a.href = window.URL.createObjectURL(blob);\n",
              "      a.download = filename;\n",
              "      div.appendChild(a);\n",
              "      a.click();\n",
              "      div.remove();\n",
              "    }\n",
              "  "
            ]
          },
          "metadata": {}
        },
        {
          "output_type": "display_data",
          "data": {
            "text/plain": [
              "<IPython.core.display.Javascript object>"
            ],
            "application/javascript": [
              "download(\"download_19732701-cc82-46d9-a724-e6d8cc48daec\", \"df_pediu_emprestimo.csv\", 198)"
            ]
          },
          "metadata": {}
        }
      ],
      "source": [
        "#quantidade de pessoas que pediram emprestimo\n",
        "df_pediu_emprestimo = (\n",
        "    df.filter(\n",
        "          (F.col(\"durante_o_periodo_da_pandemia_alguem_deste_domicilio_solicitou_algum_emprestimo\").like(\"Sim%\")) |\n",
        "          (F.col(\"durante_o_periodo_da_pandemia_alguem_deste_domicilio_solicitou_algum_emprestimo\").like(\"Não%\"))\n",
        "      )\n",
        "      .groupBy(\"durante_o_periodo_da_pandemia_alguem_deste_domicilio_solicitou_algum_emprestimo\")\n",
        "      .agg(F.count(\"*\").alias(\"qtd\"))\n",
        ")\n",
        "df_pediu_emprestimo.show()\n",
        "\n",
        "#Download do arquivo para geração de gráfico em power bi\n",
        "df_pediu_emprestimo.toPandas().to_csv(\"df_pediu_emprestimo.csv\", index=False, encoding=\"utf-8-sig\")\n",
        "\n",
        "files.download(\"df_pediu_emprestimo.csv\")"
      ]
    },
    {
      "cell_type": "code",
      "execution_count": null,
      "metadata": {
        "colab": {
          "base_uri": "https://localhost:8080/",
          "height": 386
        },
        "id": "PjmZ4LinTDR2",
        "outputId": "73071cb1-ae80-475d-9669-3f3ba2d1a09a"
      },
      "outputs": [
        {
          "output_type": "stream",
          "name": "stdout",
          "text": [
            "+-------------------------------------------------------------------------------+------------+------+\n",
            "|durante_o_periodo_da_pandemia_alguem_deste_domicilio_solicitou_algum_emprestimo|      regiao|   qtd|\n",
            "+-------------------------------------------------------------------------------+------------+------+\n",
            "|                                                           Sim, e pelo menos...|     Sudeste|  8789|\n",
            "|                                                           Sim, mas nenhum m...|       Norte|  5906|\n",
            "|                                                                  Não solicitou|         Sul| 58299|\n",
            "|                                                                  Não solicitou|Centro-Oeste| 15719|\n",
            "|                                                           Sim, mas nenhum m...|         Sul| 11672|\n",
            "|                                                           Sim, mas nenhum m...|Centro-Oeste|  2639|\n",
            "|                                                           Sim, e pelo menos...|         Sul|  6436|\n",
            "|                                                           Sim, mas nenhum m...|     Sudeste| 15976|\n",
            "|                                                           Sim, mas nenhum m...|    Nordeste| 17481|\n",
            "|                                                                  Não solicitou|    Nordeste|105733|\n",
            "|                                                                  Não solicitou|       Norte| 43825|\n",
            "|                                                           Sim, e pelo menos...|Centro-Oeste|  1644|\n",
            "|                                                                  Não solicitou|     Sudeste|101461|\n",
            "|                                                           Sim, e pelo menos...|    Nordeste|  9575|\n",
            "|                                                           Sim, e pelo menos...|       Norte|  3130|\n",
            "+-------------------------------------------------------------------------------+------------+------+\n",
            "\n"
          ]
        },
        {
          "output_type": "display_data",
          "data": {
            "text/plain": [
              "<IPython.core.display.Javascript object>"
            ],
            "application/javascript": [
              "\n",
              "    async function download(id, filename, size) {\n",
              "      if (!google.colab.kernel.accessAllowed) {\n",
              "        return;\n",
              "      }\n",
              "      const div = document.createElement('div');\n",
              "      const label = document.createElement('label');\n",
              "      label.textContent = `Downloading \"${filename}\": `;\n",
              "      div.appendChild(label);\n",
              "      const progress = document.createElement('progress');\n",
              "      progress.max = size;\n",
              "      div.appendChild(progress);\n",
              "      document.body.appendChild(div);\n",
              "\n",
              "      const buffers = [];\n",
              "      let downloaded = 0;\n",
              "\n",
              "      const channel = await google.colab.kernel.comms.open(id);\n",
              "      // Send a message to notify the kernel that we're ready.\n",
              "      channel.send({})\n",
              "\n",
              "      for await (const message of channel.messages) {\n",
              "        // Send a message to notify the kernel that we're ready.\n",
              "        channel.send({})\n",
              "        if (message.buffers) {\n",
              "          for (const buffer of message.buffers) {\n",
              "            buffers.push(buffer);\n",
              "            downloaded += buffer.byteLength;\n",
              "            progress.value = downloaded;\n",
              "          }\n",
              "        }\n",
              "      }\n",
              "      const blob = new Blob(buffers, {type: 'application/binary'});\n",
              "      const a = document.createElement('a');\n",
              "      a.href = window.URL.createObjectURL(blob);\n",
              "      a.download = filename;\n",
              "      div.appendChild(a);\n",
              "      a.click();\n",
              "      div.remove();\n",
              "    }\n",
              "  "
            ]
          },
          "metadata": {}
        },
        {
          "output_type": "display_data",
          "data": {
            "text/plain": [
              "<IPython.core.display.Javascript object>"
            ],
            "application/javascript": [
              "download(\"download_14b67fc7-037a-4d05-95e6-a0a2588756bb\", \"df_pediu_emprestimo_regiao.csv\", 759)"
            ]
          },
          "metadata": {}
        }
      ],
      "source": [
        "#quantidade de pessoas que pediram emprestimo por região\n",
        "df_pediu_emprestimo_regiao = (\n",
        "    df.filter(\n",
        "          (F.col(\"durante_o_periodo_da_pandemia_alguem_deste_domicilio_solicitou_algum_emprestimo\").like(\"Sim%\")) |\n",
        "          (F.col(\"durante_o_periodo_da_pandemia_alguem_deste_domicilio_solicitou_algum_emprestimo\").like(\"Não%\"))\n",
        "      )\n",
        "      .groupBy(\"durante_o_periodo_da_pandemia_alguem_deste_domicilio_solicitou_algum_emprestimo\", \"regiao\")\n",
        "      .agg(F.count(\"*\").alias(\"qtd\"))\n",
        ")\n",
        "df_pediu_emprestimo_regiao.show()\n",
        "\n",
        "#Download do arquivo para geração de gráfico em power bi\n",
        "df_pediu_emprestimo_regiao.toPandas().to_csv(\"df_pediu_emprestimo_regiao.csv\", index=False, encoding=\"utf-8-sig\")\n",
        "\n",
        "files.download(\"df_pediu_emprestimo_regiao.csv\")"
      ]
    },
    {
      "cell_type": "code",
      "execution_count": null,
      "metadata": {
        "colab": {
          "base_uri": "https://localhost:8080/",
          "height": 146
        },
        "id": "1y8_mXGERfhY",
        "outputId": "2831a74f-b86a-4fc4-d3ee-6ccce7a5016a"
      },
      "outputs": [
        {
          "output_type": "stream",
          "name": "stdout",
          "text": [
            "+-------------------------------------------------+------+\n",
            "|auxilios_emergenciais_relacionados_ao_coronavirus|   qtd|\n",
            "+-------------------------------------------------+------+\n",
            "|                                              Não|183093|\n",
            "|                                              Sim|174856|\n",
            "+-------------------------------------------------+------+\n",
            "\n"
          ]
        },
        {
          "output_type": "display_data",
          "data": {
            "text/plain": [
              "<IPython.core.display.Javascript object>"
            ],
            "application/javascript": [
              "\n",
              "    async function download(id, filename, size) {\n",
              "      if (!google.colab.kernel.accessAllowed) {\n",
              "        return;\n",
              "      }\n",
              "      const div = document.createElement('div');\n",
              "      const label = document.createElement('label');\n",
              "      label.textContent = `Downloading \"${filename}\": `;\n",
              "      div.appendChild(label);\n",
              "      const progress = document.createElement('progress');\n",
              "      progress.max = size;\n",
              "      div.appendChild(progress);\n",
              "      document.body.appendChild(div);\n",
              "\n",
              "      const buffers = [];\n",
              "      let downloaded = 0;\n",
              "\n",
              "      const channel = await google.colab.kernel.comms.open(id);\n",
              "      // Send a message to notify the kernel that we're ready.\n",
              "      channel.send({})\n",
              "\n",
              "      for await (const message of channel.messages) {\n",
              "        // Send a message to notify the kernel that we're ready.\n",
              "        channel.send({})\n",
              "        if (message.buffers) {\n",
              "          for (const buffer of message.buffers) {\n",
              "            buffers.push(buffer);\n",
              "            downloaded += buffer.byteLength;\n",
              "            progress.value = downloaded;\n",
              "          }\n",
              "        }\n",
              "      }\n",
              "      const blob = new Blob(buffers, {type: 'application/binary'});\n",
              "      const a = document.createElement('a');\n",
              "      a.href = window.URL.createObjectURL(blob);\n",
              "      a.download = filename;\n",
              "      div.appendChild(a);\n",
              "      a.click();\n",
              "      div.remove();\n",
              "    }\n",
              "  "
            ]
          },
          "metadata": {}
        },
        {
          "output_type": "display_data",
          "data": {
            "text/plain": [
              "<IPython.core.display.Javascript object>"
            ],
            "application/javascript": [
              "download(\"download_668434e3-2411-49b6-b7d9-e3faf706cdcf\", \"df_precisou_aux.csv\", 80)"
            ]
          },
          "metadata": {}
        }
      ],
      "source": [
        "#quantidade de pessoas precisaram auxilio\n",
        "df_precisou_aux = (\n",
        "    df.filter(F.col(\"auxilios_emergenciais_relacionados_ao_coronavirus\").isin([\"Sim\", \"Não\"]))\n",
        "      .groupBy(\"auxilios_emergenciais_relacionados_ao_coronavirus\")\n",
        "      .agg(F.count(\"*\").alias(\"qtd\"))\n",
        ")\n",
        "df_precisou_aux.show()\n",
        "\n",
        "\n",
        "#Download do arquivo para geração de gráfico em power bi\n",
        "df_precisou_aux.toPandas().to_csv(\"df_precisou_aux.csv\", index=False, encoding=\"utf-8-sig\")\n",
        "\n",
        "files.download(\"df_precisou_aux.csv\")"
      ]
    },
    {
      "cell_type": "code",
      "execution_count": null,
      "metadata": {
        "colab": {
          "base_uri": "https://localhost:8080/",
          "height": 294
        },
        "id": "7MYSujr7S7uX",
        "outputId": "e76f97cf-cbfa-408f-d259-6982e70efb09"
      },
      "outputs": [
        {
          "output_type": "stream",
          "name": "stdout",
          "text": [
            "+-------------------------------------------------+------------+-----+\n",
            "|auxilios_emergenciais_relacionados_ao_coronavirus|      regiao|  qtd|\n",
            "+-------------------------------------------------+------------+-----+\n",
            "|                                              Sim|    Nordeste|72505|\n",
            "|                                              Sim|         Sul|19848|\n",
            "|                                              Não|    Nordeste|43826|\n",
            "|                                              Não|     Sudeste|64690|\n",
            "|                                              Sim|     Sudeste|46681|\n",
            "|                                              Não|       Norte|19434|\n",
            "|                                              Não|         Sul|45387|\n",
            "|                                              Não|Centro-Oeste| 9756|\n",
            "|                                              Sim|       Norte|28061|\n",
            "|                                              Sim|Centro-Oeste| 7761|\n",
            "+-------------------------------------------------+------------+-----+\n",
            "\n"
          ]
        },
        {
          "output_type": "display_data",
          "data": {
            "text/plain": [
              "<IPython.core.display.Javascript object>"
            ],
            "application/javascript": [
              "\n",
              "    async function download(id, filename, size) {\n",
              "      if (!google.colab.kernel.accessAllowed) {\n",
              "        return;\n",
              "      }\n",
              "      const div = document.createElement('div');\n",
              "      const label = document.createElement('label');\n",
              "      label.textContent = `Downloading \"${filename}\": `;\n",
              "      div.appendChild(label);\n",
              "      const progress = document.createElement('progress');\n",
              "      progress.max = size;\n",
              "      div.appendChild(progress);\n",
              "      document.body.appendChild(div);\n",
              "\n",
              "      const buffers = [];\n",
              "      let downloaded = 0;\n",
              "\n",
              "      const channel = await google.colab.kernel.comms.open(id);\n",
              "      // Send a message to notify the kernel that we're ready.\n",
              "      channel.send({})\n",
              "\n",
              "      for await (const message of channel.messages) {\n",
              "        // Send a message to notify the kernel that we're ready.\n",
              "        channel.send({})\n",
              "        if (message.buffers) {\n",
              "          for (const buffer of message.buffers) {\n",
              "            buffers.push(buffer);\n",
              "            downloaded += buffer.byteLength;\n",
              "            progress.value = downloaded;\n",
              "          }\n",
              "        }\n",
              "      }\n",
              "      const blob = new Blob(buffers, {type: 'application/binary'});\n",
              "      const a = document.createElement('a');\n",
              "      a.href = window.URL.createObjectURL(blob);\n",
              "      a.download = filename;\n",
              "      div.appendChild(a);\n",
              "      a.click();\n",
              "      div.remove();\n",
              "    }\n",
              "  "
            ]
          },
          "metadata": {}
        },
        {
          "output_type": "display_data",
          "data": {
            "text/plain": [
              "<IPython.core.display.Javascript object>"
            ],
            "application/javascript": [
              "download(\"download_d221864f-1f97-47b4-a86d-2db006f9e137\", \"df_precisou_aux_regiao.csv\", 247)"
            ]
          },
          "metadata": {}
        }
      ],
      "source": [
        "#quantidade de pessoas precisaram auxilio pore região\n",
        "df_precisou_aux_regiao = (\n",
        "    df.filter(F.col(\"auxilios_emergenciais_relacionados_ao_coronavirus\").isin([\"Sim\", \"Não\"]))\n",
        "      .groupBy(\"auxilios_emergenciais_relacionados_ao_coronavirus\", \"regiao\")\n",
        "      .agg(F.count(\"*\").alias(\"qtd\"))\n",
        ")\n",
        "df_precisou_aux_regiao.show()\n",
        "\n",
        "#Download do arquivo para geração de gráfico em power bi\n",
        "df_precisou_aux_regiao.toPandas().to_csv(\"df_precisou_aux_regiao.csv\", index=False, encoding=\"utf-8-sig\")\n",
        "\n",
        "files.download(\"df_precisou_aux_regiao.csv\")"
      ]
    }
  ],
  "metadata": {
    "colab": {
      "provenance": []
    },
    "kernelspec": {
      "display_name": "Python 3",
      "name": "python3"
    },
    "language_info": {
      "name": "python"
    }
  },
  "nbformat": 4,
  "nbformat_minor": 0
}